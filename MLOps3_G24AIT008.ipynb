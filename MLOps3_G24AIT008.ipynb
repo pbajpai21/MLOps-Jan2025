{
  "nbformat": 4,
  "nbformat_minor": 0,
  "metadata": {
    "colab": {
      "provenance": [],
      "gpuType": "T4",
      "authorship_tag": "ABX9TyPbX6xxJn0+Yrpnpcsn/xku",
      "include_colab_link": true
    },
    "kernelspec": {
      "name": "python3",
      "display_name": "Python 3"
    },
    "language_info": {
      "name": "python"
    },
    "accelerator": "GPU"
  },
  "cells": [
    {
      "cell_type": "markdown",
      "metadata": {
        "id": "view-in-github",
        "colab_type": "text"
      },
      "source": [
        "<a href=\"https://colab.research.google.com/github/pbajpai21/MLOps-Jan2025/blob/main/MLOps3_G24AIT008.ipynb\" target=\"_parent\"><img src=\"https://colab.research.google.com/assets/colab-badge.svg\" alt=\"Open In Colab\"/></a>"
      ]
    },
    {
      "cell_type": "markdown",
      "source": [
        "# Roll No : G24AIT008"
      ],
      "metadata": {
        "id": "yc93Hz8olnrA"
      }
    },
    {
      "cell_type": "markdown",
      "source": [
        "# Q1. (Dataset and Model Preparation)"
      ],
      "metadata": {
        "id": "HgI8Xam6C7t-"
      }
    },
    {
      "cell_type": "markdown",
      "source": [
        "Load the Dataset"
      ],
      "metadata": {
        "id": "OHsN6M0kDFLL"
      }
    },
    {
      "cell_type": "code",
      "source": [
        "import torch\n",
        "import torchvision\n",
        "import torchvision.transforms as transforms\n",
        "from torch.utils.data import DataLoader, random_split\n",
        "\n",
        "# Define the transformation: Convert images to tensors and normalize\n",
        "transform = transforms.Compose([transforms.ToTensor(), transforms.Normalize((0.5,), (0.5,))])\n",
        "\n",
        "# Load Fashion-MNIST dataset\n",
        "train_dataset = torchvision.datasets.FashionMNIST(root='./data', train=True, transform=transform, download=True)\n",
        "test_dataset = torchvision.datasets.FashionMNIST(root='./data', train=False, transform=transform, download=True)\n"
      ],
      "metadata": {
        "colab": {
          "base_uri": "https://localhost:8080/"
        },
        "id": "fJdyjTVSC9Jq",
        "outputId": "7bacaa1f-1aba-4510-d734-93d9572cab84"
      },
      "execution_count": 1,
      "outputs": [
        {
          "output_type": "stream",
          "name": "stdout",
          "text": [
            "Downloading http://fashion-mnist.s3-website.eu-central-1.amazonaws.com/train-images-idx3-ubyte.gz\n",
            "Downloading http://fashion-mnist.s3-website.eu-central-1.amazonaws.com/train-images-idx3-ubyte.gz to ./data/FashionMNIST/raw/train-images-idx3-ubyte.gz\n"
          ]
        },
        {
          "output_type": "stream",
          "name": "stderr",
          "text": [
            "100%|██████████| 26.4M/26.4M [00:01<00:00, 15.6MB/s]\n"
          ]
        },
        {
          "output_type": "stream",
          "name": "stdout",
          "text": [
            "Extracting ./data/FashionMNIST/raw/train-images-idx3-ubyte.gz to ./data/FashionMNIST/raw\n",
            "\n",
            "Downloading http://fashion-mnist.s3-website.eu-central-1.amazonaws.com/train-labels-idx1-ubyte.gz\n",
            "Downloading http://fashion-mnist.s3-website.eu-central-1.amazonaws.com/train-labels-idx1-ubyte.gz to ./data/FashionMNIST/raw/train-labels-idx1-ubyte.gz\n"
          ]
        },
        {
          "output_type": "stream",
          "name": "stderr",
          "text": [
            "100%|██████████| 29.5k/29.5k [00:00<00:00, 333kB/s]\n"
          ]
        },
        {
          "output_type": "stream",
          "name": "stdout",
          "text": [
            "Extracting ./data/FashionMNIST/raw/train-labels-idx1-ubyte.gz to ./data/FashionMNIST/raw\n",
            "\n",
            "Downloading http://fashion-mnist.s3-website.eu-central-1.amazonaws.com/t10k-images-idx3-ubyte.gz\n",
            "Downloading http://fashion-mnist.s3-website.eu-central-1.amazonaws.com/t10k-images-idx3-ubyte.gz to ./data/FashionMNIST/raw/t10k-images-idx3-ubyte.gz\n"
          ]
        },
        {
          "output_type": "stream",
          "name": "stderr",
          "text": [
            "100%|██████████| 4.42M/4.42M [00:00<00:00, 5.55MB/s]\n"
          ]
        },
        {
          "output_type": "stream",
          "name": "stdout",
          "text": [
            "Extracting ./data/FashionMNIST/raw/t10k-images-idx3-ubyte.gz to ./data/FashionMNIST/raw\n",
            "\n",
            "Downloading http://fashion-mnist.s3-website.eu-central-1.amazonaws.com/t10k-labels-idx1-ubyte.gz\n",
            "Downloading http://fashion-mnist.s3-website.eu-central-1.amazonaws.com/t10k-labels-idx1-ubyte.gz to ./data/FashionMNIST/raw/t10k-labels-idx1-ubyte.gz\n"
          ]
        },
        {
          "output_type": "stream",
          "name": "stderr",
          "text": [
            "100%|██████████| 5.15k/5.15k [00:00<00:00, 7.30MB/s]"
          ]
        },
        {
          "output_type": "stream",
          "name": "stdout",
          "text": [
            "Extracting ./data/FashionMNIST/raw/t10k-labels-idx1-ubyte.gz to ./data/FashionMNIST/raw\n",
            "\n"
          ]
        },
        {
          "output_type": "stream",
          "name": "stderr",
          "text": [
            "\n"
          ]
        }
      ]
    },
    {
      "cell_type": "markdown",
      "source": [
        "Train-Validation Split (80:20)"
      ],
      "metadata": {
        "id": "0cQIsh_ODO_T"
      }
    },
    {
      "cell_type": "code",
      "source": [
        "# Define train-validation split (80:20)\n",
        "train_size = int(0.8 * len(train_dataset))\n",
        "val_size = len(train_dataset) - train_size\n",
        "\n",
        "train_data, val_data = random_split(train_dataset, [train_size, val_size])\n",
        "\n",
        "# Create DataLoader for training, validation, and test sets\n",
        "train_loader = DataLoader(train_data, batch_size=64, shuffle=True)\n",
        "val_loader = DataLoader(val_data, batch_size=64, shuffle=False)\n",
        "test_loader = DataLoader(test_dataset, batch_size=64, shuffle=False)\n"
      ],
      "metadata": {
        "id": "98xbI05aDPsW"
      },
      "execution_count": 2,
      "outputs": []
    },
    {
      "cell_type": "markdown",
      "source": [
        "Defining Model Architecture"
      ],
      "metadata": {
        "id": "fUBr6CpHDSeg"
      }
    },
    {
      "cell_type": "code",
      "source": [
        "import torch.nn as nn\n",
        "\n",
        "class FashionMNISTModel(nn.Module):\n",
        "    def __init__(self, hidden_units):\n",
        "        super(FashionMNISTModel, self).__init__()\n",
        "        self.fc1 = nn.Linear(28 * 28, hidden_units)  # First layer\n",
        "        self.relu = nn.ReLU()  # Activation function\n",
        "        self.fc2 = nn.Linear(hidden_units, 10)  # Output layer\n",
        "\n",
        "    def forward(self, x):\n",
        "        x = x.view(x.shape[0], -1)  # Flatten input\n",
        "        x = self.fc1(x)\n",
        "        x = self.relu(x)\n",
        "        x = self.fc2(x)\n",
        "        return x\n",
        "\n",
        "# Set default hidden layer neurons\n",
        "hidden_units = 256\n",
        "model = FashionMNISTModel(hidden_units)\n"
      ],
      "metadata": {
        "id": "92Myh8MiDY3o"
      },
      "execution_count": 3,
      "outputs": []
    },
    {
      "cell_type": "markdown",
      "source": [
        "# Q2. (Setting Up the Project & Logging Hyperparameters)"
      ],
      "metadata": {
        "id": "y4Rgh4ZFDg7O"
      }
    },
    {
      "cell_type": "markdown",
      "source": [
        "Initialize wandb project"
      ],
      "metadata": {
        "id": "5F_Ki8ytDiIk"
      }
    },
    {
      "cell_type": "code",
      "source": [
        "!pip install wandb\n",
        "import wandb\n",
        "\n",
        "wandb.login(relogin=True)\n",
        "wandb.init(project=\"MLOps2025_g24ait008\", config={\n",
        "    \"learning_rate\": 0.001,\n",
        "    \"batch_size\": 64,\n",
        "    \"epochs\": 5,\n",
        "    \"hidden_units\": hidden_units\n",
        "})\n"
      ],
      "metadata": {
        "colab": {
          "base_uri": "https://localhost:8080/",
          "height": 628
        },
        "id": "cI6QhLsaDmd6",
        "outputId": "56246cfc-5158-44c9-8749-805be79a28d8"
      },
      "execution_count": 4,
      "outputs": [
        {
          "output_type": "stream",
          "name": "stdout",
          "text": [
            "Requirement already satisfied: wandb in /usr/local/lib/python3.11/dist-packages (0.19.6)\n",
            "Requirement already satisfied: click!=8.0.0,>=7.1 in /usr/local/lib/python3.11/dist-packages (from wandb) (8.1.8)\n",
            "Requirement already satisfied: docker-pycreds>=0.4.0 in /usr/local/lib/python3.11/dist-packages (from wandb) (0.4.0)\n",
            "Requirement already satisfied: gitpython!=3.1.29,>=1.0.0 in /usr/local/lib/python3.11/dist-packages (from wandb) (3.1.44)\n",
            "Requirement already satisfied: platformdirs in /usr/local/lib/python3.11/dist-packages (from wandb) (4.3.6)\n",
            "Requirement already satisfied: protobuf!=4.21.0,!=5.28.0,<6,>=3.19.0 in /usr/local/lib/python3.11/dist-packages (from wandb) (4.25.6)\n",
            "Requirement already satisfied: psutil>=5.0.0 in /usr/local/lib/python3.11/dist-packages (from wandb) (5.9.5)\n",
            "Requirement already satisfied: pydantic<3,>=2.6 in /usr/local/lib/python3.11/dist-packages (from wandb) (2.10.6)\n",
            "Requirement already satisfied: pyyaml in /usr/local/lib/python3.11/dist-packages (from wandb) (6.0.2)\n",
            "Requirement already satisfied: requests<3,>=2.0.0 in /usr/local/lib/python3.11/dist-packages (from wandb) (2.32.3)\n",
            "Requirement already satisfied: sentry-sdk>=2.0.0 in /usr/local/lib/python3.11/dist-packages (from wandb) (2.22.0)\n",
            "Requirement already satisfied: setproctitle in /usr/local/lib/python3.11/dist-packages (from wandb) (1.3.4)\n",
            "Requirement already satisfied: setuptools in /usr/local/lib/python3.11/dist-packages (from wandb) (75.1.0)\n",
            "Requirement already satisfied: typing-extensions<5,>=4.4 in /usr/local/lib/python3.11/dist-packages (from wandb) (4.12.2)\n",
            "Requirement already satisfied: six>=1.4.0 in /usr/local/lib/python3.11/dist-packages (from docker-pycreds>=0.4.0->wandb) (1.17.0)\n",
            "Requirement already satisfied: gitdb<5,>=4.0.1 in /usr/local/lib/python3.11/dist-packages (from gitpython!=3.1.29,>=1.0.0->wandb) (4.0.12)\n",
            "Requirement already satisfied: annotated-types>=0.6.0 in /usr/local/lib/python3.11/dist-packages (from pydantic<3,>=2.6->wandb) (0.7.0)\n",
            "Requirement already satisfied: pydantic-core==2.27.2 in /usr/local/lib/python3.11/dist-packages (from pydantic<3,>=2.6->wandb) (2.27.2)\n",
            "Requirement already satisfied: charset-normalizer<4,>=2 in /usr/local/lib/python3.11/dist-packages (from requests<3,>=2.0.0->wandb) (3.4.1)\n",
            "Requirement already satisfied: idna<4,>=2.5 in /usr/local/lib/python3.11/dist-packages (from requests<3,>=2.0.0->wandb) (3.10)\n",
            "Requirement already satisfied: urllib3<3,>=1.21.1 in /usr/local/lib/python3.11/dist-packages (from requests<3,>=2.0.0->wandb) (2.3.0)\n",
            "Requirement already satisfied: certifi>=2017.4.17 in /usr/local/lib/python3.11/dist-packages (from requests<3,>=2.0.0->wandb) (2025.1.31)\n",
            "Requirement already satisfied: smmap<6,>=3.0.1 in /usr/local/lib/python3.11/dist-packages (from gitdb<5,>=4.0.1->gitpython!=3.1.29,>=1.0.0->wandb) (5.0.2)\n"
          ]
        },
        {
          "output_type": "display_data",
          "data": {
            "text/plain": [
              "<IPython.core.display.Javascript object>"
            ],
            "application/javascript": [
              "\n",
              "        window._wandbApiKey = new Promise((resolve, reject) => {\n",
              "            function loadScript(url) {\n",
              "            return new Promise(function(resolve, reject) {\n",
              "                let newScript = document.createElement(\"script\");\n",
              "                newScript.onerror = reject;\n",
              "                newScript.onload = resolve;\n",
              "                document.body.appendChild(newScript);\n",
              "                newScript.src = url;\n",
              "            });\n",
              "            }\n",
              "            loadScript(\"https://cdn.jsdelivr.net/npm/postmate/build/postmate.min.js\").then(() => {\n",
              "            const iframe = document.createElement('iframe')\n",
              "            iframe.style.cssText = \"width:0;height:0;border:none\"\n",
              "            document.body.appendChild(iframe)\n",
              "            const handshake = new Postmate({\n",
              "                container: iframe,\n",
              "                url: 'https://wandb.ai/authorize'\n",
              "            });\n",
              "            const timeout = setTimeout(() => reject(\"Couldn't auto authenticate\"), 5000)\n",
              "            handshake.then(function(child) {\n",
              "                child.on('authorize', data => {\n",
              "                    clearTimeout(timeout)\n",
              "                    resolve(data)\n",
              "                });\n",
              "            });\n",
              "            })\n",
              "        });\n",
              "    "
            ]
          },
          "metadata": {}
        },
        {
          "output_type": "stream",
          "name": "stderr",
          "text": [
            "\u001b[34m\u001b[1mwandb\u001b[0m: \u001b[33mWARNING\u001b[0m If you're specifying your api key in code, ensure this code is not shared publicly.\n",
            "\u001b[34m\u001b[1mwandb\u001b[0m: \u001b[33mWARNING\u001b[0m Consider setting the WANDB_API_KEY environment variable, or running `wandb login` from the command line.\n",
            "\u001b[34m\u001b[1mwandb\u001b[0m: Appending key for api.wandb.ai to your netrc file: /root/.netrc\n",
            "\u001b[34m\u001b[1mwandb\u001b[0m: Currently logged in as: \u001b[33mg24ait008\u001b[0m (\u001b[33mg24ait008-ml-ops\u001b[0m) to \u001b[32mhttps://api.wandb.ai\u001b[0m. Use \u001b[1m`wandb login --relogin`\u001b[0m to force relogin\n",
            "\u001b[34m\u001b[1mwandb\u001b[0m: Using wandb-core as the SDK backend.  Please refer to https://wandb.me/wandb-core for more information.\n"
          ]
        },
        {
          "output_type": "display_data",
          "data": {
            "text/plain": [
              "<IPython.core.display.HTML object>"
            ],
            "text/html": [
              "Tracking run with wandb version 0.19.6"
            ]
          },
          "metadata": {}
        },
        {
          "output_type": "display_data",
          "data": {
            "text/plain": [
              "<IPython.core.display.HTML object>"
            ],
            "text/html": [
              "Run data is saved locally in <code>/content/wandb/run-20250223_074543-4i24g2jo</code>"
            ]
          },
          "metadata": {}
        },
        {
          "output_type": "display_data",
          "data": {
            "text/plain": [
              "<IPython.core.display.HTML object>"
            ],
            "text/html": [
              "Syncing run <strong><a href='https://wandb.ai/g24ait008-ml-ops/MLOps2025_g24ait008/runs/4i24g2jo' target=\"_blank\">gentle-dawn-1</a></strong> to <a href='https://wandb.ai/g24ait008-ml-ops/MLOps2025_g24ait008' target=\"_blank\">Weights & Biases</a> (<a href='https://wandb.me/developer-guide' target=\"_blank\">docs</a>)<br>"
            ]
          },
          "metadata": {}
        },
        {
          "output_type": "display_data",
          "data": {
            "text/plain": [
              "<IPython.core.display.HTML object>"
            ],
            "text/html": [
              " View project at <a href='https://wandb.ai/g24ait008-ml-ops/MLOps2025_g24ait008' target=\"_blank\">https://wandb.ai/g24ait008-ml-ops/MLOps2025_g24ait008</a>"
            ]
          },
          "metadata": {}
        },
        {
          "output_type": "display_data",
          "data": {
            "text/plain": [
              "<IPython.core.display.HTML object>"
            ],
            "text/html": [
              " View run at <a href='https://wandb.ai/g24ait008-ml-ops/MLOps2025_g24ait008/runs/4i24g2jo' target=\"_blank\">https://wandb.ai/g24ait008-ml-ops/MLOps2025_g24ait008/runs/4i24g2jo</a>"
            ]
          },
          "metadata": {}
        },
        {
          "output_type": "execute_result",
          "data": {
            "text/html": [
              "<button onClick=\"this.nextSibling.style.display='block';this.style.display='none';\">Display W&B run</button><iframe src='https://wandb.ai/g24ait008-ml-ops/MLOps2025_g24ait008/runs/4i24g2jo?jupyter=true' style='border:none;width:100%;height:420px;display:none;'></iframe>"
            ],
            "text/plain": [
              "<wandb.sdk.wandb_run.Run at 0x7f1d9506e050>"
            ]
          },
          "metadata": {},
          "execution_count": 4
        }
      ]
    },
    {
      "cell_type": "markdown",
      "source": [
        "Defining Loss function and Optimizer"
      ],
      "metadata": {
        "id": "Ia3kTGBUDzWr"
      }
    },
    {
      "cell_type": "code",
      "source": [
        "import torch.optim as optim\n",
        "\n",
        "device = torch.device(\"cuda\" if torch.cuda.is_available() else \"cpu\")\n",
        "model = model.to(device)\n",
        "\n",
        "criterion = nn.CrossEntropyLoss()\n",
        "optimizer = optim.Adam(model.parameters(), lr=wandb.config.learning_rate)\n"
      ],
      "metadata": {
        "id": "6uQdmmqyD3sy"
      },
      "execution_count": 5,
      "outputs": []
    },
    {
      "cell_type": "markdown",
      "source": [
        "# Q3. (Training and Validation)"
      ],
      "metadata": {
        "id": "JKCmEUuJEAZB"
      }
    },
    {
      "cell_type": "markdown",
      "source": [
        "Training the model"
      ],
      "metadata": {
        "id": "FYqYsIvIECzu"
      }
    },
    {
      "cell_type": "code",
      "source": [
        "import time\n",
        "\n",
        "def train(model, train_loader, val_loader, criterion, optimizer, epochs):\n",
        "    start_time = time.time()\n",
        "    model.train()\n",
        "\n",
        "    for epoch in range(epochs):\n",
        "        train_loss, train_correct = 0, 0\n",
        "        for images, labels in train_loader:\n",
        "            images, labels = images.to(device), labels.to(device)\n",
        "\n",
        "            optimizer.zero_grad()\n",
        "            outputs = model(images)\n",
        "            loss = criterion(outputs, labels)\n",
        "            loss.backward()\n",
        "            optimizer.step()\n",
        "\n",
        "            train_loss += loss.item()\n",
        "            train_correct += (outputs.argmax(dim=1) == labels).sum().item()\n",
        "\n",
        "        train_loss /= len(train_loader)\n",
        "        train_acc = train_correct / len(train_loader.dataset)\n",
        "\n",
        "        # Validation\n",
        "        val_loss, val_correct = 0, 0\n",
        "        model.eval()\n",
        "        with torch.no_grad():\n",
        "            for images, labels in val_loader:\n",
        "                images, labels = images.to(device), labels.to(device)\n",
        "                outputs = model(images)\n",
        "                loss = criterion(outputs, labels)\n",
        "                val_loss += loss.item()\n",
        "                val_correct += (outputs.argmax(dim=1) == labels).sum().item()\n",
        "\n",
        "        val_loss /= len(val_loader)\n",
        "        val_acc = val_correct / len(val_loader.dataset)\n",
        "\n",
        "        # Log metrics in wandb\n",
        "        wandb.log({\"Train Loss\": train_loss, \"Train Accuracy\": train_acc,\n",
        "                   \"Validation Loss\": val_loss, \"Validation Accuracy\": val_acc})\n",
        "\n",
        "        print(f\"Epoch [{epoch+1}/{epochs}], Train Loss: {train_loss:.4f}, Train Accuracy: {train_acc:.4f}, Validation Loss: {val_loss:.4f}, Validation Accuracy: {val_acc:.4f}\")\n",
        "    end_time = time.time()\n",
        "    execution_time = round(end_time - start_time, 2)\n",
        "    wandb.log({\"Time spent (seconds)\" : execution_time})\n",
        "    print(f\"Time spent: {execution_time} seconds\")\n",
        "\n",
        "try:\n",
        "  train(model, train_loader, val_loader, criterion, optimizer, wandb.config.epochs)\n",
        "finally:\n",
        "  # Close wandb session\n",
        "  wandb.finish()\n"
      ],
      "metadata": {
        "colab": {
          "base_uri": "https://localhost:8080/",
          "height": 594
        },
        "id": "KSDVsfL8EIhG",
        "outputId": "05c583bd-5c58-4a08-b581-9a4776ffda77"
      },
      "execution_count": 6,
      "outputs": [
        {
          "output_type": "stream",
          "name": "stdout",
          "text": [
            "Epoch [1/5], Train Loss: 0.5118, Train Accuracy: 0.8149, Validation Loss: 0.4388, Validation Accuracy: 0.8414\n",
            "Epoch [2/5], Train Loss: 0.3889, Train Accuracy: 0.8587, Validation Loss: 0.3574, Validation Accuracy: 0.8710\n",
            "Epoch [3/5], Train Loss: 0.3459, Train Accuracy: 0.8721, Validation Loss: 0.3331, Validation Accuracy: 0.8776\n",
            "Epoch [4/5], Train Loss: 0.3183, Train Accuracy: 0.8843, Validation Loss: 0.3391, Validation Accuracy: 0.8721\n",
            "Epoch [5/5], Train Loss: 0.2985, Train Accuracy: 0.8910, Validation Loss: 0.3166, Validation Accuracy: 0.8823\n",
            "Time spent: 115.16 seconds\n"
          ]
        },
        {
          "output_type": "display_data",
          "data": {
            "text/plain": [
              "<IPython.core.display.HTML object>"
            ],
            "text/html": []
          },
          "metadata": {}
        },
        {
          "output_type": "display_data",
          "data": {
            "text/plain": [
              "<IPython.core.display.HTML object>"
            ],
            "text/html": [
              "<br>    <style><br>        .wandb-row {<br>            display: flex;<br>            flex-direction: row;<br>            flex-wrap: wrap;<br>            justify-content: flex-start;<br>            width: 100%;<br>        }<br>        .wandb-col {<br>            display: flex;<br>            flex-direction: column;<br>            flex-basis: 100%;<br>            flex: 1;<br>            padding: 10px;<br>        }<br>    </style><br><div class=\"wandb-row\"><div class=\"wandb-col\"><h3>Run history:</h3><br/><table class=\"wandb\"><tr><td>Time spent (seconds)</td><td>▁</td></tr><tr><td>Train Accuracy</td><td>▁▅▆▇█</td></tr><tr><td>Train Loss</td><td>█▄▃▂▁</td></tr><tr><td>Validation Accuracy</td><td>▁▆▇▆█</td></tr><tr><td>Validation Loss</td><td>█▃▂▂▁</td></tr></table><br/></div><div class=\"wandb-col\"><h3>Run summary:</h3><br/><table class=\"wandb\"><tr><td>Time spent (seconds)</td><td>115.16</td></tr><tr><td>Train Accuracy</td><td>0.891</td></tr><tr><td>Train Loss</td><td>0.29854</td></tr><tr><td>Validation Accuracy</td><td>0.88233</td></tr><tr><td>Validation Loss</td><td>0.31659</td></tr></table><br/></div></div>"
            ]
          },
          "metadata": {}
        },
        {
          "output_type": "display_data",
          "data": {
            "text/plain": [
              "<IPython.core.display.HTML object>"
            ],
            "text/html": [
              " View run <strong style=\"color:#cdcd00\">gentle-dawn-1</strong> at: <a href='https://wandb.ai/g24ait008-ml-ops/MLOps2025_g24ait008/runs/4i24g2jo' target=\"_blank\">https://wandb.ai/g24ait008-ml-ops/MLOps2025_g24ait008/runs/4i24g2jo</a><br> View project at: <a href='https://wandb.ai/g24ait008-ml-ops/MLOps2025_g24ait008' target=\"_blank\">https://wandb.ai/g24ait008-ml-ops/MLOps2025_g24ait008</a><br>Synced 5 W&B file(s), 0 media file(s), 0 artifact file(s) and 0 other file(s)"
            ]
          },
          "metadata": {}
        },
        {
          "output_type": "display_data",
          "data": {
            "text/plain": [
              "<IPython.core.display.HTML object>"
            ],
            "text/html": [
              "Find logs at: <code>./wandb/run-20250223_074543-4i24g2jo/logs</code>"
            ]
          },
          "metadata": {}
        }
      ]
    },
    {
      "cell_type": "markdown",
      "source": [
        "# Q4. Hyperparameter Exploration"
      ],
      "metadata": {
        "id": "Nq27t1HeEJt8"
      }
    },
    {
      "cell_type": "markdown",
      "source": [
        "Defining Sweep configuration"
      ],
      "metadata": {
        "id": "qMNpcC5REVK-"
      }
    },
    {
      "cell_type": "code",
      "source": [
        "sweep_config = {\n",
        "    \"method\": \"random\",\n",
        "    \"parameters\": {\n",
        "        \"hidden_units\": {\n",
        "            \"values\": [128, 256, 512]  # Different values for the hidden layer\n",
        "        },\n",
        "        \"batch_size\": {\"values\": [128, 256]},\n",
        "        \"epochs\": {\"value\": 5},\n",
        "        \"learning_rate\": {\n",
        "            \"values\": [0.002, 0.01, 0.1]\n",
        "        }\n",
        "    }\n",
        "}\n",
        "\n",
        "sweep_id = wandb.sweep(sweep_config, project=\"MLOps2025_g24ait008\")\n"
      ],
      "metadata": {
        "colab": {
          "base_uri": "https://localhost:8080/"
        },
        "id": "EY--gQ_-EeZE",
        "outputId": "6ce78faa-8574-4f19-b9a5-7b7e10182a28"
      },
      "execution_count": 7,
      "outputs": [
        {
          "output_type": "stream",
          "name": "stdout",
          "text": [
            "Create sweep with ID: l5dm6euw\n",
            "Sweep URL: https://wandb.ai/g24ait008-ml-ops/MLOps2025_g24ait008/sweeps/l5dm6euw\n"
          ]
        }
      ]
    },
    {
      "cell_type": "markdown",
      "source": [
        "Running the sweep"
      ],
      "metadata": {
        "id": "UpHGmwKqEaid"
      }
    },
    {
      "cell_type": "code",
      "source": [
        "device = torch.device(\"cuda\" if torch.cuda.is_available() else \"cpu\")\n",
        "\n",
        "def sweep_train(config=None):\n",
        "    wandb.init(config=config)\n",
        "    model = FashionMNISTModel(wandb.config.hidden_units).to(device)\n",
        "    optimizer = optim.Adam(model.parameters(), lr=0.001)\n",
        "    train(model, train_loader, val_loader, criterion, optimizer, epochs=5)\n",
        "\n",
        "\n",
        "wandb.agent(sweep_id, sweep_train, count=10)\n"
      ],
      "metadata": {
        "colab": {
          "base_uri": "https://localhost:8080/",
          "height": 1000
        },
        "id": "Zs-J-DVkEpKI",
        "outputId": "4f6200db-f0ba-44fc-e74b-a05772b36d83"
      },
      "execution_count": 8,
      "outputs": [
        {
          "output_type": "stream",
          "name": "stderr",
          "text": [
            "\u001b[34m\u001b[1mwandb\u001b[0m: Agent Starting Run: 10xsqrhq with config:\n",
            "\u001b[34m\u001b[1mwandb\u001b[0m: \tbatch_size: 256\n",
            "\u001b[34m\u001b[1mwandb\u001b[0m: \tepochs: 5\n",
            "\u001b[34m\u001b[1mwandb\u001b[0m: \thidden_units: 256\n",
            "\u001b[34m\u001b[1mwandb\u001b[0m: \tlearning_rate: 0.002\n"
          ]
        },
        {
          "output_type": "display_data",
          "data": {
            "text/plain": [
              "<IPython.core.display.HTML object>"
            ],
            "text/html": [
              "Tracking run with wandb version 0.19.6"
            ]
          },
          "metadata": {}
        },
        {
          "output_type": "display_data",
          "data": {
            "text/plain": [
              "<IPython.core.display.HTML object>"
            ],
            "text/html": [
              "Run data is saved locally in <code>/content/wandb/run-20250223_074742-10xsqrhq</code>"
            ]
          },
          "metadata": {}
        },
        {
          "output_type": "display_data",
          "data": {
            "text/plain": [
              "<IPython.core.display.HTML object>"
            ],
            "text/html": [
              "Syncing run <strong><a href='https://wandb.ai/g24ait008-ml-ops/MLOps2025_g24ait008/runs/10xsqrhq' target=\"_blank\">balmy-sweep-1</a></strong> to <a href='https://wandb.ai/g24ait008-ml-ops/MLOps2025_g24ait008' target=\"_blank\">Weights & Biases</a> (<a href='https://wandb.me/developer-guide' target=\"_blank\">docs</a>)<br>Sweep page: <a href='https://wandb.ai/g24ait008-ml-ops/MLOps2025_g24ait008/sweeps/l5dm6euw' target=\"_blank\">https://wandb.ai/g24ait008-ml-ops/MLOps2025_g24ait008/sweeps/l5dm6euw</a>"
            ]
          },
          "metadata": {}
        },
        {
          "output_type": "display_data",
          "data": {
            "text/plain": [
              "<IPython.core.display.HTML object>"
            ],
            "text/html": [
              " View project at <a href='https://wandb.ai/g24ait008-ml-ops/MLOps2025_g24ait008' target=\"_blank\">https://wandb.ai/g24ait008-ml-ops/MLOps2025_g24ait008</a>"
            ]
          },
          "metadata": {}
        },
        {
          "output_type": "display_data",
          "data": {
            "text/plain": [
              "<IPython.core.display.HTML object>"
            ],
            "text/html": [
              " View sweep at <a href='https://wandb.ai/g24ait008-ml-ops/MLOps2025_g24ait008/sweeps/l5dm6euw' target=\"_blank\">https://wandb.ai/g24ait008-ml-ops/MLOps2025_g24ait008/sweeps/l5dm6euw</a>"
            ]
          },
          "metadata": {}
        },
        {
          "output_type": "display_data",
          "data": {
            "text/plain": [
              "<IPython.core.display.HTML object>"
            ],
            "text/html": [
              " View run at <a href='https://wandb.ai/g24ait008-ml-ops/MLOps2025_g24ait008/runs/10xsqrhq' target=\"_blank\">https://wandb.ai/g24ait008-ml-ops/MLOps2025_g24ait008/runs/10xsqrhq</a>"
            ]
          },
          "metadata": {}
        },
        {
          "output_type": "stream",
          "name": "stdout",
          "text": [
            "Epoch [1/5], Train Loss: 0.5094, Train Accuracy: 0.8150, Validation Loss: 0.4252, Validation Accuracy: 0.8398\n",
            "Epoch [2/5], Train Loss: 0.3862, Train Accuracy: 0.8582, Validation Loss: 0.3816, Validation Accuracy: 0.8580\n",
            "Epoch [3/5], Train Loss: 0.3449, Train Accuracy: 0.8748, Validation Loss: 0.3484, Validation Accuracy: 0.8698\n",
            "Epoch [4/5], Train Loss: 0.3208, Train Accuracy: 0.8817, Validation Loss: 0.3379, Validation Accuracy: 0.8734\n",
            "Epoch [5/5], Train Loss: 0.3029, Train Accuracy: 0.8882, Validation Loss: 0.3136, Validation Accuracy: 0.8867\n",
            "Time spent: 106.1 seconds\n"
          ]
        },
        {
          "output_type": "display_data",
          "data": {
            "text/plain": [
              "<IPython.core.display.HTML object>"
            ],
            "text/html": []
          },
          "metadata": {}
        },
        {
          "output_type": "display_data",
          "data": {
            "text/plain": [
              "<IPython.core.display.HTML object>"
            ],
            "text/html": [
              "<br>    <style><br>        .wandb-row {<br>            display: flex;<br>            flex-direction: row;<br>            flex-wrap: wrap;<br>            justify-content: flex-start;<br>            width: 100%;<br>        }<br>        .wandb-col {<br>            display: flex;<br>            flex-direction: column;<br>            flex-basis: 100%;<br>            flex: 1;<br>            padding: 10px;<br>        }<br>    </style><br><div class=\"wandb-row\"><div class=\"wandb-col\"><h3>Run history:</h3><br/><table class=\"wandb\"><tr><td>Time spent (seconds)</td><td>▁</td></tr><tr><td>Train Accuracy</td><td>▁▅▇▇█</td></tr><tr><td>Train Loss</td><td>█▄▂▂▁</td></tr><tr><td>Validation Accuracy</td><td>▁▄▅▆█</td></tr><tr><td>Validation Loss</td><td>█▅▃▃▁</td></tr></table><br/></div><div class=\"wandb-col\"><h3>Run summary:</h3><br/><table class=\"wandb\"><tr><td>Time spent (seconds)</td><td>106.1</td></tr><tr><td>Train Accuracy</td><td>0.88825</td></tr><tr><td>Train Loss</td><td>0.30292</td></tr><tr><td>Validation Accuracy</td><td>0.88667</td></tr><tr><td>Validation Loss</td><td>0.31359</td></tr></table><br/></div></div>"
            ]
          },
          "metadata": {}
        },
        {
          "output_type": "display_data",
          "data": {
            "text/plain": [
              "<IPython.core.display.HTML object>"
            ],
            "text/html": [
              " View run <strong style=\"color:#cdcd00\">balmy-sweep-1</strong> at: <a href='https://wandb.ai/g24ait008-ml-ops/MLOps2025_g24ait008/runs/10xsqrhq' target=\"_blank\">https://wandb.ai/g24ait008-ml-ops/MLOps2025_g24ait008/runs/10xsqrhq</a><br> View project at: <a href='https://wandb.ai/g24ait008-ml-ops/MLOps2025_g24ait008' target=\"_blank\">https://wandb.ai/g24ait008-ml-ops/MLOps2025_g24ait008</a><br>Synced 5 W&B file(s), 0 media file(s), 0 artifact file(s) and 0 other file(s)"
            ]
          },
          "metadata": {}
        },
        {
          "output_type": "display_data",
          "data": {
            "text/plain": [
              "<IPython.core.display.HTML object>"
            ],
            "text/html": [
              "Find logs at: <code>./wandb/run-20250223_074742-10xsqrhq/logs</code>"
            ]
          },
          "metadata": {}
        },
        {
          "output_type": "stream",
          "name": "stderr",
          "text": [
            "\u001b[34m\u001b[1mwandb\u001b[0m: Agent Starting Run: e52bjqce with config:\n",
            "\u001b[34m\u001b[1mwandb\u001b[0m: \tbatch_size: 256\n",
            "\u001b[34m\u001b[1mwandb\u001b[0m: \tepochs: 5\n",
            "\u001b[34m\u001b[1mwandb\u001b[0m: \thidden_units: 128\n",
            "\u001b[34m\u001b[1mwandb\u001b[0m: \tlearning_rate: 0.1\n"
          ]
        },
        {
          "output_type": "display_data",
          "data": {
            "text/plain": [
              "<IPython.core.display.HTML object>"
            ],
            "text/html": [
              "Tracking run with wandb version 0.19.6"
            ]
          },
          "metadata": {}
        },
        {
          "output_type": "display_data",
          "data": {
            "text/plain": [
              "<IPython.core.display.HTML object>"
            ],
            "text/html": [
              "Run data is saved locally in <code>/content/wandb/run-20250223_074934-e52bjqce</code>"
            ]
          },
          "metadata": {}
        },
        {
          "output_type": "display_data",
          "data": {
            "text/plain": [
              "<IPython.core.display.HTML object>"
            ],
            "text/html": [
              "Syncing run <strong><a href='https://wandb.ai/g24ait008-ml-ops/MLOps2025_g24ait008/runs/e52bjqce' target=\"_blank\">driven-sweep-2</a></strong> to <a href='https://wandb.ai/g24ait008-ml-ops/MLOps2025_g24ait008' target=\"_blank\">Weights & Biases</a> (<a href='https://wandb.me/developer-guide' target=\"_blank\">docs</a>)<br>Sweep page: <a href='https://wandb.ai/g24ait008-ml-ops/MLOps2025_g24ait008/sweeps/l5dm6euw' target=\"_blank\">https://wandb.ai/g24ait008-ml-ops/MLOps2025_g24ait008/sweeps/l5dm6euw</a>"
            ]
          },
          "metadata": {}
        },
        {
          "output_type": "display_data",
          "data": {
            "text/plain": [
              "<IPython.core.display.HTML object>"
            ],
            "text/html": [
              " View project at <a href='https://wandb.ai/g24ait008-ml-ops/MLOps2025_g24ait008' target=\"_blank\">https://wandb.ai/g24ait008-ml-ops/MLOps2025_g24ait008</a>"
            ]
          },
          "metadata": {}
        },
        {
          "output_type": "display_data",
          "data": {
            "text/plain": [
              "<IPython.core.display.HTML object>"
            ],
            "text/html": [
              " View sweep at <a href='https://wandb.ai/g24ait008-ml-ops/MLOps2025_g24ait008/sweeps/l5dm6euw' target=\"_blank\">https://wandb.ai/g24ait008-ml-ops/MLOps2025_g24ait008/sweeps/l5dm6euw</a>"
            ]
          },
          "metadata": {}
        },
        {
          "output_type": "display_data",
          "data": {
            "text/plain": [
              "<IPython.core.display.HTML object>"
            ],
            "text/html": [
              " View run at <a href='https://wandb.ai/g24ait008-ml-ops/MLOps2025_g24ait008/runs/e52bjqce' target=\"_blank\">https://wandb.ai/g24ait008-ml-ops/MLOps2025_g24ait008/runs/e52bjqce</a>"
            ]
          },
          "metadata": {}
        },
        {
          "output_type": "stream",
          "name": "stdout",
          "text": [
            "Epoch [1/5], Train Loss: 0.5257, Train Accuracy: 0.8136, Validation Loss: 0.4631, Validation Accuracy: 0.8290\n",
            "Epoch [2/5], Train Loss: 0.3978, Train Accuracy: 0.8551, Validation Loss: 0.3575, Validation Accuracy: 0.8703\n",
            "Epoch [3/5], Train Loss: 0.3580, Train Accuracy: 0.8700, Validation Loss: 0.3619, Validation Accuracy: 0.8662\n",
            "Epoch [4/5], Train Loss: 0.3305, Train Accuracy: 0.8797, Validation Loss: 0.3515, Validation Accuracy: 0.8715\n",
            "Epoch [5/5], Train Loss: 0.3122, Train Accuracy: 0.8849, Validation Loss: 0.3234, Validation Accuracy: 0.8780\n",
            "Time spent: 87.9 seconds\n"
          ]
        },
        {
          "output_type": "display_data",
          "data": {
            "text/plain": [
              "<IPython.core.display.HTML object>"
            ],
            "text/html": []
          },
          "metadata": {}
        },
        {
          "output_type": "display_data",
          "data": {
            "text/plain": [
              "<IPython.core.display.HTML object>"
            ],
            "text/html": [
              "<br>    <style><br>        .wandb-row {<br>            display: flex;<br>            flex-direction: row;<br>            flex-wrap: wrap;<br>            justify-content: flex-start;<br>            width: 100%;<br>        }<br>        .wandb-col {<br>            display: flex;<br>            flex-direction: column;<br>            flex-basis: 100%;<br>            flex: 1;<br>            padding: 10px;<br>        }<br>    </style><br><div class=\"wandb-row\"><div class=\"wandb-col\"><h3>Run history:</h3><br/><table class=\"wandb\"><tr><td>Time spent (seconds)</td><td>▁</td></tr><tr><td>Train Accuracy</td><td>▁▅▇▇█</td></tr><tr><td>Train Loss</td><td>█▄▃▂▁</td></tr><tr><td>Validation Accuracy</td><td>▁▇▆▇█</td></tr><tr><td>Validation Loss</td><td>█▃▃▂▁</td></tr></table><br/></div><div class=\"wandb-col\"><h3>Run summary:</h3><br/><table class=\"wandb\"><tr><td>Time spent (seconds)</td><td>87.9</td></tr><tr><td>Train Accuracy</td><td>0.88485</td></tr><tr><td>Train Loss</td><td>0.31224</td></tr><tr><td>Validation Accuracy</td><td>0.878</td></tr><tr><td>Validation Loss</td><td>0.3234</td></tr></table><br/></div></div>"
            ]
          },
          "metadata": {}
        },
        {
          "output_type": "display_data",
          "data": {
            "text/plain": [
              "<IPython.core.display.HTML object>"
            ],
            "text/html": [
              " View run <strong style=\"color:#cdcd00\">driven-sweep-2</strong> at: <a href='https://wandb.ai/g24ait008-ml-ops/MLOps2025_g24ait008/runs/e52bjqce' target=\"_blank\">https://wandb.ai/g24ait008-ml-ops/MLOps2025_g24ait008/runs/e52bjqce</a><br> View project at: <a href='https://wandb.ai/g24ait008-ml-ops/MLOps2025_g24ait008' target=\"_blank\">https://wandb.ai/g24ait008-ml-ops/MLOps2025_g24ait008</a><br>Synced 5 W&B file(s), 0 media file(s), 0 artifact file(s) and 0 other file(s)"
            ]
          },
          "metadata": {}
        },
        {
          "output_type": "display_data",
          "data": {
            "text/plain": [
              "<IPython.core.display.HTML object>"
            ],
            "text/html": [
              "Find logs at: <code>./wandb/run-20250223_074934-e52bjqce/logs</code>"
            ]
          },
          "metadata": {}
        },
        {
          "output_type": "stream",
          "name": "stderr",
          "text": [
            "\u001b[34m\u001b[1mwandb\u001b[0m: Agent Starting Run: 2aqse6gh with config:\n",
            "\u001b[34m\u001b[1mwandb\u001b[0m: \tbatch_size: 128\n",
            "\u001b[34m\u001b[1mwandb\u001b[0m: \tepochs: 5\n",
            "\u001b[34m\u001b[1mwandb\u001b[0m: \thidden_units: 128\n",
            "\u001b[34m\u001b[1mwandb\u001b[0m: \tlearning_rate: 0.1\n"
          ]
        },
        {
          "output_type": "display_data",
          "data": {
            "text/plain": [
              "<IPython.core.display.HTML object>"
            ],
            "text/html": [
              "Tracking run with wandb version 0.19.6"
            ]
          },
          "metadata": {}
        },
        {
          "output_type": "display_data",
          "data": {
            "text/plain": [
              "<IPython.core.display.HTML object>"
            ],
            "text/html": [
              "Run data is saved locally in <code>/content/wandb/run-20250223_075110-2aqse6gh</code>"
            ]
          },
          "metadata": {}
        },
        {
          "output_type": "display_data",
          "data": {
            "text/plain": [
              "<IPython.core.display.HTML object>"
            ],
            "text/html": [
              "Syncing run <strong><a href='https://wandb.ai/g24ait008-ml-ops/MLOps2025_g24ait008/runs/2aqse6gh' target=\"_blank\">flowing-sweep-3</a></strong> to <a href='https://wandb.ai/g24ait008-ml-ops/MLOps2025_g24ait008' target=\"_blank\">Weights & Biases</a> (<a href='https://wandb.me/developer-guide' target=\"_blank\">docs</a>)<br>Sweep page: <a href='https://wandb.ai/g24ait008-ml-ops/MLOps2025_g24ait008/sweeps/l5dm6euw' target=\"_blank\">https://wandb.ai/g24ait008-ml-ops/MLOps2025_g24ait008/sweeps/l5dm6euw</a>"
            ]
          },
          "metadata": {}
        },
        {
          "output_type": "display_data",
          "data": {
            "text/plain": [
              "<IPython.core.display.HTML object>"
            ],
            "text/html": [
              " View project at <a href='https://wandb.ai/g24ait008-ml-ops/MLOps2025_g24ait008' target=\"_blank\">https://wandb.ai/g24ait008-ml-ops/MLOps2025_g24ait008</a>"
            ]
          },
          "metadata": {}
        },
        {
          "output_type": "display_data",
          "data": {
            "text/plain": [
              "<IPython.core.display.HTML object>"
            ],
            "text/html": [
              " View sweep at <a href='https://wandb.ai/g24ait008-ml-ops/MLOps2025_g24ait008/sweeps/l5dm6euw' target=\"_blank\">https://wandb.ai/g24ait008-ml-ops/MLOps2025_g24ait008/sweeps/l5dm6euw</a>"
            ]
          },
          "metadata": {}
        },
        {
          "output_type": "display_data",
          "data": {
            "text/plain": [
              "<IPython.core.display.HTML object>"
            ],
            "text/html": [
              " View run at <a href='https://wandb.ai/g24ait008-ml-ops/MLOps2025_g24ait008/runs/2aqse6gh' target=\"_blank\">https://wandb.ai/g24ait008-ml-ops/MLOps2025_g24ait008/runs/2aqse6gh</a>"
            ]
          },
          "metadata": {}
        },
        {
          "output_type": "stream",
          "name": "stdout",
          "text": [
            "Epoch [1/5], Train Loss: 0.5214, Train Accuracy: 0.8134, Validation Loss: 0.4326, Validation Accuracy: 0.8409\n",
            "Epoch [2/5], Train Loss: 0.3954, Train Accuracy: 0.8568, Validation Loss: 0.3712, Validation Accuracy: 0.8674\n",
            "Epoch [3/5], Train Loss: 0.3575, Train Accuracy: 0.8697, Validation Loss: 0.3561, Validation Accuracy: 0.8651\n",
            "Epoch [4/5], Train Loss: 0.3306, Train Accuracy: 0.8791, Validation Loss: 0.3317, Validation Accuracy: 0.8778\n",
            "Epoch [5/5], Train Loss: 0.3110, Train Accuracy: 0.8859, Validation Loss: 0.3257, Validation Accuracy: 0.8812\n",
            "Time spent: 86.24 seconds\n"
          ]
        },
        {
          "output_type": "display_data",
          "data": {
            "text/plain": [
              "<IPython.core.display.HTML object>"
            ],
            "text/html": []
          },
          "metadata": {}
        },
        {
          "output_type": "display_data",
          "data": {
            "text/plain": [
              "<IPython.core.display.HTML object>"
            ],
            "text/html": [
              "<br>    <style><br>        .wandb-row {<br>            display: flex;<br>            flex-direction: row;<br>            flex-wrap: wrap;<br>            justify-content: flex-start;<br>            width: 100%;<br>        }<br>        .wandb-col {<br>            display: flex;<br>            flex-direction: column;<br>            flex-basis: 100%;<br>            flex: 1;<br>            padding: 10px;<br>        }<br>    </style><br><div class=\"wandb-row\"><div class=\"wandb-col\"><h3>Run history:</h3><br/><table class=\"wandb\"><tr><td>Time spent (seconds)</td><td>▁</td></tr><tr><td>Train Accuracy</td><td>▁▅▆▇█</td></tr><tr><td>Train Loss</td><td>█▄▃▂▁</td></tr><tr><td>Validation Accuracy</td><td>▁▆▅▇█</td></tr><tr><td>Validation Loss</td><td>█▄▃▁▁</td></tr></table><br/></div><div class=\"wandb-col\"><h3>Run summary:</h3><br/><table class=\"wandb\"><tr><td>Time spent (seconds)</td><td>86.24</td></tr><tr><td>Train Accuracy</td><td>0.88587</td></tr><tr><td>Train Loss</td><td>0.31102</td></tr><tr><td>Validation Accuracy</td><td>0.88117</td></tr><tr><td>Validation Loss</td><td>0.32565</td></tr></table><br/></div></div>"
            ]
          },
          "metadata": {}
        },
        {
          "output_type": "display_data",
          "data": {
            "text/plain": [
              "<IPython.core.display.HTML object>"
            ],
            "text/html": [
              " View run <strong style=\"color:#cdcd00\">flowing-sweep-3</strong> at: <a href='https://wandb.ai/g24ait008-ml-ops/MLOps2025_g24ait008/runs/2aqse6gh' target=\"_blank\">https://wandb.ai/g24ait008-ml-ops/MLOps2025_g24ait008/runs/2aqse6gh</a><br> View project at: <a href='https://wandb.ai/g24ait008-ml-ops/MLOps2025_g24ait008' target=\"_blank\">https://wandb.ai/g24ait008-ml-ops/MLOps2025_g24ait008</a><br>Synced 5 W&B file(s), 0 media file(s), 0 artifact file(s) and 0 other file(s)"
            ]
          },
          "metadata": {}
        },
        {
          "output_type": "display_data",
          "data": {
            "text/plain": [
              "<IPython.core.display.HTML object>"
            ],
            "text/html": [
              "Find logs at: <code>./wandb/run-20250223_075110-2aqse6gh/logs</code>"
            ]
          },
          "metadata": {}
        },
        {
          "output_type": "stream",
          "name": "stderr",
          "text": [
            "\u001b[34m\u001b[1mwandb\u001b[0m: Agent Starting Run: 1zus6r6w with config:\n",
            "\u001b[34m\u001b[1mwandb\u001b[0m: \tbatch_size: 128\n",
            "\u001b[34m\u001b[1mwandb\u001b[0m: \tepochs: 5\n",
            "\u001b[34m\u001b[1mwandb\u001b[0m: \thidden_units: 128\n",
            "\u001b[34m\u001b[1mwandb\u001b[0m: \tlearning_rate: 0.1\n"
          ]
        },
        {
          "output_type": "display_data",
          "data": {
            "text/plain": [
              "<IPython.core.display.HTML object>"
            ],
            "text/html": [
              "Tracking run with wandb version 0.19.6"
            ]
          },
          "metadata": {}
        },
        {
          "output_type": "display_data",
          "data": {
            "text/plain": [
              "<IPython.core.display.HTML object>"
            ],
            "text/html": [
              "Run data is saved locally in <code>/content/wandb/run-20250223_075241-1zus6r6w</code>"
            ]
          },
          "metadata": {}
        },
        {
          "output_type": "display_data",
          "data": {
            "text/plain": [
              "<IPython.core.display.HTML object>"
            ],
            "text/html": [
              "Syncing run <strong><a href='https://wandb.ai/g24ait008-ml-ops/MLOps2025_g24ait008/runs/1zus6r6w' target=\"_blank\">distinctive-sweep-4</a></strong> to <a href='https://wandb.ai/g24ait008-ml-ops/MLOps2025_g24ait008' target=\"_blank\">Weights & Biases</a> (<a href='https://wandb.me/developer-guide' target=\"_blank\">docs</a>)<br>Sweep page: <a href='https://wandb.ai/g24ait008-ml-ops/MLOps2025_g24ait008/sweeps/l5dm6euw' target=\"_blank\">https://wandb.ai/g24ait008-ml-ops/MLOps2025_g24ait008/sweeps/l5dm6euw</a>"
            ]
          },
          "metadata": {}
        },
        {
          "output_type": "display_data",
          "data": {
            "text/plain": [
              "<IPython.core.display.HTML object>"
            ],
            "text/html": [
              " View project at <a href='https://wandb.ai/g24ait008-ml-ops/MLOps2025_g24ait008' target=\"_blank\">https://wandb.ai/g24ait008-ml-ops/MLOps2025_g24ait008</a>"
            ]
          },
          "metadata": {}
        },
        {
          "output_type": "display_data",
          "data": {
            "text/plain": [
              "<IPython.core.display.HTML object>"
            ],
            "text/html": [
              " View sweep at <a href='https://wandb.ai/g24ait008-ml-ops/MLOps2025_g24ait008/sweeps/l5dm6euw' target=\"_blank\">https://wandb.ai/g24ait008-ml-ops/MLOps2025_g24ait008/sweeps/l5dm6euw</a>"
            ]
          },
          "metadata": {}
        },
        {
          "output_type": "display_data",
          "data": {
            "text/plain": [
              "<IPython.core.display.HTML object>"
            ],
            "text/html": [
              " View run at <a href='https://wandb.ai/g24ait008-ml-ops/MLOps2025_g24ait008/runs/1zus6r6w' target=\"_blank\">https://wandb.ai/g24ait008-ml-ops/MLOps2025_g24ait008/runs/1zus6r6w</a>"
            ]
          },
          "metadata": {}
        },
        {
          "output_type": "stream",
          "name": "stdout",
          "text": [
            "Epoch [1/5], Train Loss: 0.5242, Train Accuracy: 0.8112, Validation Loss: 0.3965, Validation Accuracy: 0.8593\n",
            "Epoch [2/5], Train Loss: 0.3962, Train Accuracy: 0.8556, Validation Loss: 0.3706, Validation Accuracy: 0.8666\n",
            "Epoch [3/5], Train Loss: 0.3567, Train Accuracy: 0.8699, Validation Loss: 0.3405, Validation Accuracy: 0.8767\n",
            "Epoch [4/5], Train Loss: 0.3289, Train Accuracy: 0.8770, Validation Loss: 0.3306, Validation Accuracy: 0.8791\n",
            "Epoch [5/5], Train Loss: 0.3116, Train Accuracy: 0.8855, Validation Loss: 0.3283, Validation Accuracy: 0.8770\n",
            "Time spent: 87.55 seconds\n"
          ]
        },
        {
          "output_type": "display_data",
          "data": {
            "text/plain": [
              "<IPython.core.display.HTML object>"
            ],
            "text/html": []
          },
          "metadata": {}
        },
        {
          "output_type": "display_data",
          "data": {
            "text/plain": [
              "<IPython.core.display.HTML object>"
            ],
            "text/html": [
              "<br>    <style><br>        .wandb-row {<br>            display: flex;<br>            flex-direction: row;<br>            flex-wrap: wrap;<br>            justify-content: flex-start;<br>            width: 100%;<br>        }<br>        .wandb-col {<br>            display: flex;<br>            flex-direction: column;<br>            flex-basis: 100%;<br>            flex: 1;<br>            padding: 10px;<br>        }<br>    </style><br><div class=\"wandb-row\"><div class=\"wandb-col\"><h3>Run history:</h3><br/><table class=\"wandb\"><tr><td>Time spent (seconds)</td><td>▁</td></tr><tr><td>Train Accuracy</td><td>▁▅▇▇█</td></tr><tr><td>Train Loss</td><td>█▄▂▂▁</td></tr><tr><td>Validation Accuracy</td><td>▁▄▇█▇</td></tr><tr><td>Validation Loss</td><td>█▅▂▁▁</td></tr></table><br/></div><div class=\"wandb-col\"><h3>Run summary:</h3><br/><table class=\"wandb\"><tr><td>Time spent (seconds)</td><td>87.55</td></tr><tr><td>Train Accuracy</td><td>0.88546</td></tr><tr><td>Train Loss</td><td>0.31157</td></tr><tr><td>Validation Accuracy</td><td>0.877</td></tr><tr><td>Validation Loss</td><td>0.32835</td></tr></table><br/></div></div>"
            ]
          },
          "metadata": {}
        },
        {
          "output_type": "display_data",
          "data": {
            "text/plain": [
              "<IPython.core.display.HTML object>"
            ],
            "text/html": [
              " View run <strong style=\"color:#cdcd00\">distinctive-sweep-4</strong> at: <a href='https://wandb.ai/g24ait008-ml-ops/MLOps2025_g24ait008/runs/1zus6r6w' target=\"_blank\">https://wandb.ai/g24ait008-ml-ops/MLOps2025_g24ait008/runs/1zus6r6w</a><br> View project at: <a href='https://wandb.ai/g24ait008-ml-ops/MLOps2025_g24ait008' target=\"_blank\">https://wandb.ai/g24ait008-ml-ops/MLOps2025_g24ait008</a><br>Synced 5 W&B file(s), 0 media file(s), 0 artifact file(s) and 0 other file(s)"
            ]
          },
          "metadata": {}
        },
        {
          "output_type": "display_data",
          "data": {
            "text/plain": [
              "<IPython.core.display.HTML object>"
            ],
            "text/html": [
              "Find logs at: <code>./wandb/run-20250223_075241-1zus6r6w/logs</code>"
            ]
          },
          "metadata": {}
        },
        {
          "output_type": "stream",
          "name": "stderr",
          "text": [
            "\u001b[34m\u001b[1mwandb\u001b[0m: Sweep Agent: Waiting for job.\n",
            "\u001b[34m\u001b[1mwandb\u001b[0m: Job received.\n",
            "\u001b[34m\u001b[1mwandb\u001b[0m: Agent Starting Run: q3hfwedh with config:\n",
            "\u001b[34m\u001b[1mwandb\u001b[0m: \tbatch_size: 256\n",
            "\u001b[34m\u001b[1mwandb\u001b[0m: \tepochs: 5\n",
            "\u001b[34m\u001b[1mwandb\u001b[0m: \thidden_units: 256\n",
            "\u001b[34m\u001b[1mwandb\u001b[0m: \tlearning_rate: 0.01\n"
          ]
        },
        {
          "output_type": "display_data",
          "data": {
            "text/plain": [
              "<IPython.core.display.HTML object>"
            ],
            "text/html": [
              "Tracking run with wandb version 0.19.6"
            ]
          },
          "metadata": {}
        },
        {
          "output_type": "display_data",
          "data": {
            "text/plain": [
              "<IPython.core.display.HTML object>"
            ],
            "text/html": [
              "Run data is saved locally in <code>/content/wandb/run-20250223_075422-q3hfwedh</code>"
            ]
          },
          "metadata": {}
        },
        {
          "output_type": "display_data",
          "data": {
            "text/plain": [
              "<IPython.core.display.HTML object>"
            ],
            "text/html": [
              "Syncing run <strong><a href='https://wandb.ai/g24ait008-ml-ops/MLOps2025_g24ait008/runs/q3hfwedh' target=\"_blank\">dark-sweep-5</a></strong> to <a href='https://wandb.ai/g24ait008-ml-ops/MLOps2025_g24ait008' target=\"_blank\">Weights & Biases</a> (<a href='https://wandb.me/developer-guide' target=\"_blank\">docs</a>)<br>Sweep page: <a href='https://wandb.ai/g24ait008-ml-ops/MLOps2025_g24ait008/sweeps/l5dm6euw' target=\"_blank\">https://wandb.ai/g24ait008-ml-ops/MLOps2025_g24ait008/sweeps/l5dm6euw</a>"
            ]
          },
          "metadata": {}
        },
        {
          "output_type": "display_data",
          "data": {
            "text/plain": [
              "<IPython.core.display.HTML object>"
            ],
            "text/html": [
              " View project at <a href='https://wandb.ai/g24ait008-ml-ops/MLOps2025_g24ait008' target=\"_blank\">https://wandb.ai/g24ait008-ml-ops/MLOps2025_g24ait008</a>"
            ]
          },
          "metadata": {}
        },
        {
          "output_type": "display_data",
          "data": {
            "text/plain": [
              "<IPython.core.display.HTML object>"
            ],
            "text/html": [
              " View sweep at <a href='https://wandb.ai/g24ait008-ml-ops/MLOps2025_g24ait008/sweeps/l5dm6euw' target=\"_blank\">https://wandb.ai/g24ait008-ml-ops/MLOps2025_g24ait008/sweeps/l5dm6euw</a>"
            ]
          },
          "metadata": {}
        },
        {
          "output_type": "display_data",
          "data": {
            "text/plain": [
              "<IPython.core.display.HTML object>"
            ],
            "text/html": [
              " View run at <a href='https://wandb.ai/g24ait008-ml-ops/MLOps2025_g24ait008/runs/q3hfwedh' target=\"_blank\">https://wandb.ai/g24ait008-ml-ops/MLOps2025_g24ait008/runs/q3hfwedh</a>"
            ]
          },
          "metadata": {}
        },
        {
          "output_type": "stream",
          "name": "stdout",
          "text": [
            "Epoch [1/5], Train Loss: 0.5098, Train Accuracy: 0.8170, Validation Loss: 0.4137, Validation Accuracy: 0.8478\n",
            "Epoch [2/5], Train Loss: 0.3855, Train Accuracy: 0.8583, Validation Loss: 0.3576, Validation Accuracy: 0.8703\n",
            "Epoch [3/5], Train Loss: 0.3457, Train Accuracy: 0.8728, Validation Loss: 0.3479, Validation Accuracy: 0.8717\n",
            "Epoch [4/5], Train Loss: 0.3205, Train Accuracy: 0.8813, Validation Loss: 0.3295, Validation Accuracy: 0.8781\n",
            "Epoch [5/5], Train Loss: 0.3005, Train Accuracy: 0.8907, Validation Loss: 0.3130, Validation Accuracy: 0.8838\n",
            "Time spent: 93.27 seconds\n"
          ]
        },
        {
          "output_type": "display_data",
          "data": {
            "text/plain": [
              "<IPython.core.display.HTML object>"
            ],
            "text/html": []
          },
          "metadata": {}
        },
        {
          "output_type": "display_data",
          "data": {
            "text/plain": [
              "<IPython.core.display.HTML object>"
            ],
            "text/html": [
              "<br>    <style><br>        .wandb-row {<br>            display: flex;<br>            flex-direction: row;<br>            flex-wrap: wrap;<br>            justify-content: flex-start;<br>            width: 100%;<br>        }<br>        .wandb-col {<br>            display: flex;<br>            flex-direction: column;<br>            flex-basis: 100%;<br>            flex: 1;<br>            padding: 10px;<br>        }<br>    </style><br><div class=\"wandb-row\"><div class=\"wandb-col\"><h3>Run history:</h3><br/><table class=\"wandb\"><tr><td>Time spent (seconds)</td><td>▁</td></tr><tr><td>Train Accuracy</td><td>▁▅▆▇█</td></tr><tr><td>Train Loss</td><td>█▄▃▂▁</td></tr><tr><td>Validation Accuracy</td><td>▁▅▆▇█</td></tr><tr><td>Validation Loss</td><td>█▄▃▂▁</td></tr></table><br/></div><div class=\"wandb-col\"><h3>Run summary:</h3><br/><table class=\"wandb\"><tr><td>Time spent (seconds)</td><td>93.27</td></tr><tr><td>Train Accuracy</td><td>0.89067</td></tr><tr><td>Train Loss</td><td>0.30054</td></tr><tr><td>Validation Accuracy</td><td>0.88375</td></tr><tr><td>Validation Loss</td><td>0.313</td></tr></table><br/></div></div>"
            ]
          },
          "metadata": {}
        },
        {
          "output_type": "display_data",
          "data": {
            "text/plain": [
              "<IPython.core.display.HTML object>"
            ],
            "text/html": [
              " View run <strong style=\"color:#cdcd00\">dark-sweep-5</strong> at: <a href='https://wandb.ai/g24ait008-ml-ops/MLOps2025_g24ait008/runs/q3hfwedh' target=\"_blank\">https://wandb.ai/g24ait008-ml-ops/MLOps2025_g24ait008/runs/q3hfwedh</a><br> View project at: <a href='https://wandb.ai/g24ait008-ml-ops/MLOps2025_g24ait008' target=\"_blank\">https://wandb.ai/g24ait008-ml-ops/MLOps2025_g24ait008</a><br>Synced 5 W&B file(s), 0 media file(s), 0 artifact file(s) and 0 other file(s)"
            ]
          },
          "metadata": {}
        },
        {
          "output_type": "display_data",
          "data": {
            "text/plain": [
              "<IPython.core.display.HTML object>"
            ],
            "text/html": [
              "Find logs at: <code>./wandb/run-20250223_075422-q3hfwedh/logs</code>"
            ]
          },
          "metadata": {}
        },
        {
          "output_type": "stream",
          "name": "stderr",
          "text": [
            "\u001b[34m\u001b[1mwandb\u001b[0m: Agent Starting Run: u82104zr with config:\n",
            "\u001b[34m\u001b[1mwandb\u001b[0m: \tbatch_size: 256\n",
            "\u001b[34m\u001b[1mwandb\u001b[0m: \tepochs: 5\n",
            "\u001b[34m\u001b[1mwandb\u001b[0m: \thidden_units: 512\n",
            "\u001b[34m\u001b[1mwandb\u001b[0m: \tlearning_rate: 0.002\n"
          ]
        },
        {
          "output_type": "display_data",
          "data": {
            "text/plain": [
              "<IPython.core.display.HTML object>"
            ],
            "text/html": [
              "Tracking run with wandb version 0.19.6"
            ]
          },
          "metadata": {}
        },
        {
          "output_type": "display_data",
          "data": {
            "text/plain": [
              "<IPython.core.display.HTML object>"
            ],
            "text/html": [
              "Run data is saved locally in <code>/content/wandb/run-20250223_075603-u82104zr</code>"
            ]
          },
          "metadata": {}
        },
        {
          "output_type": "display_data",
          "data": {
            "text/plain": [
              "<IPython.core.display.HTML object>"
            ],
            "text/html": [
              "Syncing run <strong><a href='https://wandb.ai/g24ait008-ml-ops/MLOps2025_g24ait008/runs/u82104zr' target=\"_blank\">woven-sweep-6</a></strong> to <a href='https://wandb.ai/g24ait008-ml-ops/MLOps2025_g24ait008' target=\"_blank\">Weights & Biases</a> (<a href='https://wandb.me/developer-guide' target=\"_blank\">docs</a>)<br>Sweep page: <a href='https://wandb.ai/g24ait008-ml-ops/MLOps2025_g24ait008/sweeps/l5dm6euw' target=\"_blank\">https://wandb.ai/g24ait008-ml-ops/MLOps2025_g24ait008/sweeps/l5dm6euw</a>"
            ]
          },
          "metadata": {}
        },
        {
          "output_type": "display_data",
          "data": {
            "text/plain": [
              "<IPython.core.display.HTML object>"
            ],
            "text/html": [
              " View project at <a href='https://wandb.ai/g24ait008-ml-ops/MLOps2025_g24ait008' target=\"_blank\">https://wandb.ai/g24ait008-ml-ops/MLOps2025_g24ait008</a>"
            ]
          },
          "metadata": {}
        },
        {
          "output_type": "display_data",
          "data": {
            "text/plain": [
              "<IPython.core.display.HTML object>"
            ],
            "text/html": [
              " View sweep at <a href='https://wandb.ai/g24ait008-ml-ops/MLOps2025_g24ait008/sweeps/l5dm6euw' target=\"_blank\">https://wandb.ai/g24ait008-ml-ops/MLOps2025_g24ait008/sweeps/l5dm6euw</a>"
            ]
          },
          "metadata": {}
        },
        {
          "output_type": "display_data",
          "data": {
            "text/plain": [
              "<IPython.core.display.HTML object>"
            ],
            "text/html": [
              " View run at <a href='https://wandb.ai/g24ait008-ml-ops/MLOps2025_g24ait008/runs/u82104zr' target=\"_blank\">https://wandb.ai/g24ait008-ml-ops/MLOps2025_g24ait008/runs/u82104zr</a>"
            ]
          },
          "metadata": {}
        },
        {
          "output_type": "stream",
          "name": "stdout",
          "text": [
            "Epoch [1/5], Train Loss: 0.5012, Train Accuracy: 0.8191, Validation Loss: 0.3896, Validation Accuracy: 0.8562\n",
            "Epoch [2/5], Train Loss: 0.3816, Train Accuracy: 0.8593, Validation Loss: 0.3857, Validation Accuracy: 0.8558\n",
            "Epoch [3/5], Train Loss: 0.3428, Train Accuracy: 0.8750, Validation Loss: 0.3473, Validation Accuracy: 0.8717\n",
            "Epoch [4/5], Train Loss: 0.3160, Train Accuracy: 0.8832, Validation Loss: 0.3327, Validation Accuracy: 0.8789\n",
            "Epoch [5/5], Train Loss: 0.2937, Train Accuracy: 0.8907, Validation Loss: 0.3239, Validation Accuracy: 0.8804\n",
            "Time spent: 103.88 seconds\n"
          ]
        },
        {
          "output_type": "display_data",
          "data": {
            "text/plain": [
              "<IPython.core.display.HTML object>"
            ],
            "text/html": []
          },
          "metadata": {}
        },
        {
          "output_type": "display_data",
          "data": {
            "text/plain": [
              "<IPython.core.display.HTML object>"
            ],
            "text/html": [
              "<br>    <style><br>        .wandb-row {<br>            display: flex;<br>            flex-direction: row;<br>            flex-wrap: wrap;<br>            justify-content: flex-start;<br>            width: 100%;<br>        }<br>        .wandb-col {<br>            display: flex;<br>            flex-direction: column;<br>            flex-basis: 100%;<br>            flex: 1;<br>            padding: 10px;<br>        }<br>    </style><br><div class=\"wandb-row\"><div class=\"wandb-col\"><h3>Run history:</h3><br/><table class=\"wandb\"><tr><td>Time spent (seconds)</td><td>▁</td></tr><tr><td>Train Accuracy</td><td>▁▅▆▇█</td></tr><tr><td>Train Loss</td><td>█▄▃▂▁</td></tr><tr><td>Validation Accuracy</td><td>▁▁▆██</td></tr><tr><td>Validation Loss</td><td>██▃▂▁</td></tr></table><br/></div><div class=\"wandb-col\"><h3>Run summary:</h3><br/><table class=\"wandb\"><tr><td>Time spent (seconds)</td><td>103.88</td></tr><tr><td>Train Accuracy</td><td>0.89067</td></tr><tr><td>Train Loss</td><td>0.29368</td></tr><tr><td>Validation Accuracy</td><td>0.88042</td></tr><tr><td>Validation Loss</td><td>0.3239</td></tr></table><br/></div></div>"
            ]
          },
          "metadata": {}
        },
        {
          "output_type": "display_data",
          "data": {
            "text/plain": [
              "<IPython.core.display.HTML object>"
            ],
            "text/html": [
              " View run <strong style=\"color:#cdcd00\">woven-sweep-6</strong> at: <a href='https://wandb.ai/g24ait008-ml-ops/MLOps2025_g24ait008/runs/u82104zr' target=\"_blank\">https://wandb.ai/g24ait008-ml-ops/MLOps2025_g24ait008/runs/u82104zr</a><br> View project at: <a href='https://wandb.ai/g24ait008-ml-ops/MLOps2025_g24ait008' target=\"_blank\">https://wandb.ai/g24ait008-ml-ops/MLOps2025_g24ait008</a><br>Synced 5 W&B file(s), 0 media file(s), 0 artifact file(s) and 0 other file(s)"
            ]
          },
          "metadata": {}
        },
        {
          "output_type": "display_data",
          "data": {
            "text/plain": [
              "<IPython.core.display.HTML object>"
            ],
            "text/html": [
              "Find logs at: <code>./wandb/run-20250223_075603-u82104zr/logs</code>"
            ]
          },
          "metadata": {}
        },
        {
          "output_type": "stream",
          "name": "stderr",
          "text": [
            "\u001b[34m\u001b[1mwandb\u001b[0m: Agent Starting Run: ms53482q with config:\n",
            "\u001b[34m\u001b[1mwandb\u001b[0m: \tbatch_size: 256\n",
            "\u001b[34m\u001b[1mwandb\u001b[0m: \tepochs: 5\n",
            "\u001b[34m\u001b[1mwandb\u001b[0m: \thidden_units: 512\n",
            "\u001b[34m\u001b[1mwandb\u001b[0m: \tlearning_rate: 0.01\n"
          ]
        },
        {
          "output_type": "display_data",
          "data": {
            "text/plain": [
              "<IPython.core.display.HTML object>"
            ],
            "text/html": [
              "Tracking run with wandb version 0.19.6"
            ]
          },
          "metadata": {}
        },
        {
          "output_type": "display_data",
          "data": {
            "text/plain": [
              "<IPython.core.display.HTML object>"
            ],
            "text/html": [
              "Run data is saved locally in <code>/content/wandb/run-20250223_075754-ms53482q</code>"
            ]
          },
          "metadata": {}
        },
        {
          "output_type": "display_data",
          "data": {
            "text/plain": [
              "<IPython.core.display.HTML object>"
            ],
            "text/html": [
              "Syncing run <strong><a href='https://wandb.ai/g24ait008-ml-ops/MLOps2025_g24ait008/runs/ms53482q' target=\"_blank\">absurd-sweep-7</a></strong> to <a href='https://wandb.ai/g24ait008-ml-ops/MLOps2025_g24ait008' target=\"_blank\">Weights & Biases</a> (<a href='https://wandb.me/developer-guide' target=\"_blank\">docs</a>)<br>Sweep page: <a href='https://wandb.ai/g24ait008-ml-ops/MLOps2025_g24ait008/sweeps/l5dm6euw' target=\"_blank\">https://wandb.ai/g24ait008-ml-ops/MLOps2025_g24ait008/sweeps/l5dm6euw</a>"
            ]
          },
          "metadata": {}
        },
        {
          "output_type": "display_data",
          "data": {
            "text/plain": [
              "<IPython.core.display.HTML object>"
            ],
            "text/html": [
              " View project at <a href='https://wandb.ai/g24ait008-ml-ops/MLOps2025_g24ait008' target=\"_blank\">https://wandb.ai/g24ait008-ml-ops/MLOps2025_g24ait008</a>"
            ]
          },
          "metadata": {}
        },
        {
          "output_type": "display_data",
          "data": {
            "text/plain": [
              "<IPython.core.display.HTML object>"
            ],
            "text/html": [
              " View sweep at <a href='https://wandb.ai/g24ait008-ml-ops/MLOps2025_g24ait008/sweeps/l5dm6euw' target=\"_blank\">https://wandb.ai/g24ait008-ml-ops/MLOps2025_g24ait008/sweeps/l5dm6euw</a>"
            ]
          },
          "metadata": {}
        },
        {
          "output_type": "display_data",
          "data": {
            "text/plain": [
              "<IPython.core.display.HTML object>"
            ],
            "text/html": [
              " View run at <a href='https://wandb.ai/g24ait008-ml-ops/MLOps2025_g24ait008/runs/ms53482q' target=\"_blank\">https://wandb.ai/g24ait008-ml-ops/MLOps2025_g24ait008/runs/ms53482q</a>"
            ]
          },
          "metadata": {}
        },
        {
          "output_type": "stream",
          "name": "stdout",
          "text": [
            "Epoch [1/5], Train Loss: 0.4979, Train Accuracy: 0.8201, Validation Loss: 0.3844, Validation Accuracy: 0.8582\n",
            "Epoch [2/5], Train Loss: 0.3774, Train Accuracy: 0.8615, Validation Loss: 0.3724, Validation Accuracy: 0.8618\n",
            "Epoch [3/5], Train Loss: 0.3404, Train Accuracy: 0.8742, Validation Loss: 0.3378, Validation Accuracy: 0.8721\n",
            "Epoch [4/5], Train Loss: 0.3195, Train Accuracy: 0.8830, Validation Loss: 0.3289, Validation Accuracy: 0.8801\n",
            "Epoch [5/5], Train Loss: 0.2943, Train Accuracy: 0.8917, Validation Loss: 0.3315, Validation Accuracy: 0.8776\n",
            "Time spent: 105.15 seconds\n"
          ]
        },
        {
          "output_type": "display_data",
          "data": {
            "text/plain": [
              "<IPython.core.display.HTML object>"
            ],
            "text/html": []
          },
          "metadata": {}
        },
        {
          "output_type": "display_data",
          "data": {
            "text/plain": [
              "<IPython.core.display.HTML object>"
            ],
            "text/html": [
              "<br>    <style><br>        .wandb-row {<br>            display: flex;<br>            flex-direction: row;<br>            flex-wrap: wrap;<br>            justify-content: flex-start;<br>            width: 100%;<br>        }<br>        .wandb-col {<br>            display: flex;<br>            flex-direction: column;<br>            flex-basis: 100%;<br>            flex: 1;<br>            padding: 10px;<br>        }<br>    </style><br><div class=\"wandb-row\"><div class=\"wandb-col\"><h3>Run history:</h3><br/><table class=\"wandb\"><tr><td>Time spent (seconds)</td><td>▁</td></tr><tr><td>Train Accuracy</td><td>▁▅▆▇█</td></tr><tr><td>Train Loss</td><td>█▄▃▂▁</td></tr><tr><td>Validation Accuracy</td><td>▁▂▅█▇</td></tr><tr><td>Validation Loss</td><td>█▆▂▁▁</td></tr></table><br/></div><div class=\"wandb-col\"><h3>Run summary:</h3><br/><table class=\"wandb\"><tr><td>Time spent (seconds)</td><td>105.15</td></tr><tr><td>Train Accuracy</td><td>0.89167</td></tr><tr><td>Train Loss</td><td>0.29433</td></tr><tr><td>Validation Accuracy</td><td>0.87758</td></tr><tr><td>Validation Loss</td><td>0.33147</td></tr></table><br/></div></div>"
            ]
          },
          "metadata": {}
        },
        {
          "output_type": "display_data",
          "data": {
            "text/plain": [
              "<IPython.core.display.HTML object>"
            ],
            "text/html": [
              " View run <strong style=\"color:#cdcd00\">absurd-sweep-7</strong> at: <a href='https://wandb.ai/g24ait008-ml-ops/MLOps2025_g24ait008/runs/ms53482q' target=\"_blank\">https://wandb.ai/g24ait008-ml-ops/MLOps2025_g24ait008/runs/ms53482q</a><br> View project at: <a href='https://wandb.ai/g24ait008-ml-ops/MLOps2025_g24ait008' target=\"_blank\">https://wandb.ai/g24ait008-ml-ops/MLOps2025_g24ait008</a><br>Synced 5 W&B file(s), 0 media file(s), 0 artifact file(s) and 0 other file(s)"
            ]
          },
          "metadata": {}
        },
        {
          "output_type": "display_data",
          "data": {
            "text/plain": [
              "<IPython.core.display.HTML object>"
            ],
            "text/html": [
              "Find logs at: <code>./wandb/run-20250223_075754-ms53482q/logs</code>"
            ]
          },
          "metadata": {}
        },
        {
          "output_type": "stream",
          "name": "stderr",
          "text": [
            "\u001b[34m\u001b[1mwandb\u001b[0m: Agent Starting Run: du22dkla with config:\n",
            "\u001b[34m\u001b[1mwandb\u001b[0m: \tbatch_size: 128\n",
            "\u001b[34m\u001b[1mwandb\u001b[0m: \tepochs: 5\n",
            "\u001b[34m\u001b[1mwandb\u001b[0m: \thidden_units: 256\n",
            "\u001b[34m\u001b[1mwandb\u001b[0m: \tlearning_rate: 0.002\n"
          ]
        },
        {
          "output_type": "display_data",
          "data": {
            "text/plain": [
              "<IPython.core.display.HTML object>"
            ],
            "text/html": [
              "Tracking run with wandb version 0.19.6"
            ]
          },
          "metadata": {}
        },
        {
          "output_type": "display_data",
          "data": {
            "text/plain": [
              "<IPython.core.display.HTML object>"
            ],
            "text/html": [
              "Run data is saved locally in <code>/content/wandb/run-20250223_075946-du22dkla</code>"
            ]
          },
          "metadata": {}
        },
        {
          "output_type": "display_data",
          "data": {
            "text/plain": [
              "<IPython.core.display.HTML object>"
            ],
            "text/html": [
              "Syncing run <strong><a href='https://wandb.ai/g24ait008-ml-ops/MLOps2025_g24ait008/runs/du22dkla' target=\"_blank\">radiant-sweep-8</a></strong> to <a href='https://wandb.ai/g24ait008-ml-ops/MLOps2025_g24ait008' target=\"_blank\">Weights & Biases</a> (<a href='https://wandb.me/developer-guide' target=\"_blank\">docs</a>)<br>Sweep page: <a href='https://wandb.ai/g24ait008-ml-ops/MLOps2025_g24ait008/sweeps/l5dm6euw' target=\"_blank\">https://wandb.ai/g24ait008-ml-ops/MLOps2025_g24ait008/sweeps/l5dm6euw</a>"
            ]
          },
          "metadata": {}
        },
        {
          "output_type": "display_data",
          "data": {
            "text/plain": [
              "<IPython.core.display.HTML object>"
            ],
            "text/html": [
              " View project at <a href='https://wandb.ai/g24ait008-ml-ops/MLOps2025_g24ait008' target=\"_blank\">https://wandb.ai/g24ait008-ml-ops/MLOps2025_g24ait008</a>"
            ]
          },
          "metadata": {}
        },
        {
          "output_type": "display_data",
          "data": {
            "text/plain": [
              "<IPython.core.display.HTML object>"
            ],
            "text/html": [
              " View sweep at <a href='https://wandb.ai/g24ait008-ml-ops/MLOps2025_g24ait008/sweeps/l5dm6euw' target=\"_blank\">https://wandb.ai/g24ait008-ml-ops/MLOps2025_g24ait008/sweeps/l5dm6euw</a>"
            ]
          },
          "metadata": {}
        },
        {
          "output_type": "display_data",
          "data": {
            "text/plain": [
              "<IPython.core.display.HTML object>"
            ],
            "text/html": [
              " View run at <a href='https://wandb.ai/g24ait008-ml-ops/MLOps2025_g24ait008/runs/du22dkla' target=\"_blank\">https://wandb.ai/g24ait008-ml-ops/MLOps2025_g24ait008/runs/du22dkla</a>"
            ]
          },
          "metadata": {}
        },
        {
          "output_type": "stream",
          "name": "stdout",
          "text": [
            "Epoch [1/5], Train Loss: 0.5107, Train Accuracy: 0.8155, Validation Loss: 0.3933, Validation Accuracy: 0.8588\n",
            "Epoch [2/5], Train Loss: 0.3911, Train Accuracy: 0.8568, Validation Loss: 0.3951, Validation Accuracy: 0.8524\n",
            "Epoch [3/5], Train Loss: 0.3491, Train Accuracy: 0.8720, Validation Loss: 0.3291, Validation Accuracy: 0.8788\n",
            "Epoch [4/5], Train Loss: 0.3233, Train Accuracy: 0.8815, Validation Loss: 0.3725, Validation Accuracy: 0.8585\n",
            "Epoch [5/5], Train Loss: 0.3047, Train Accuracy: 0.8884, Validation Loss: 0.3321, Validation Accuracy: 0.8748\n",
            "Time spent: 93.68 seconds\n"
          ]
        },
        {
          "output_type": "display_data",
          "data": {
            "text/plain": [
              "<IPython.core.display.HTML object>"
            ],
            "text/html": []
          },
          "metadata": {}
        },
        {
          "output_type": "display_data",
          "data": {
            "text/plain": [
              "<IPython.core.display.HTML object>"
            ],
            "text/html": [
              "<br>    <style><br>        .wandb-row {<br>            display: flex;<br>            flex-direction: row;<br>            flex-wrap: wrap;<br>            justify-content: flex-start;<br>            width: 100%;<br>        }<br>        .wandb-col {<br>            display: flex;<br>            flex-direction: column;<br>            flex-basis: 100%;<br>            flex: 1;<br>            padding: 10px;<br>        }<br>    </style><br><div class=\"wandb-row\"><div class=\"wandb-col\"><h3>Run history:</h3><br/><table class=\"wandb\"><tr><td>Time spent (seconds)</td><td>▁</td></tr><tr><td>Train Accuracy</td><td>▁▅▆▇█</td></tr><tr><td>Train Loss</td><td>█▄▃▂▁</td></tr><tr><td>Validation Accuracy</td><td>▃▁█▃▇</td></tr><tr><td>Validation Loss</td><td>██▁▆▁</td></tr></table><br/></div><div class=\"wandb-col\"><h3>Run summary:</h3><br/><table class=\"wandb\"><tr><td>Time spent (seconds)</td><td>93.68</td></tr><tr><td>Train Accuracy</td><td>0.88835</td></tr><tr><td>Train Loss</td><td>0.30472</td></tr><tr><td>Validation Accuracy</td><td>0.87483</td></tr><tr><td>Validation Loss</td><td>0.33206</td></tr></table><br/></div></div>"
            ]
          },
          "metadata": {}
        },
        {
          "output_type": "display_data",
          "data": {
            "text/plain": [
              "<IPython.core.display.HTML object>"
            ],
            "text/html": [
              " View run <strong style=\"color:#cdcd00\">radiant-sweep-8</strong> at: <a href='https://wandb.ai/g24ait008-ml-ops/MLOps2025_g24ait008/runs/du22dkla' target=\"_blank\">https://wandb.ai/g24ait008-ml-ops/MLOps2025_g24ait008/runs/du22dkla</a><br> View project at: <a href='https://wandb.ai/g24ait008-ml-ops/MLOps2025_g24ait008' target=\"_blank\">https://wandb.ai/g24ait008-ml-ops/MLOps2025_g24ait008</a><br>Synced 5 W&B file(s), 0 media file(s), 0 artifact file(s) and 0 other file(s)"
            ]
          },
          "metadata": {}
        },
        {
          "output_type": "display_data",
          "data": {
            "text/plain": [
              "<IPython.core.display.HTML object>"
            ],
            "text/html": [
              "Find logs at: <code>./wandb/run-20250223_075946-du22dkla/logs</code>"
            ]
          },
          "metadata": {}
        },
        {
          "output_type": "stream",
          "name": "stderr",
          "text": [
            "\u001b[34m\u001b[1mwandb\u001b[0m: Agent Starting Run: oz7vfbbc with config:\n",
            "\u001b[34m\u001b[1mwandb\u001b[0m: \tbatch_size: 128\n",
            "\u001b[34m\u001b[1mwandb\u001b[0m: \tepochs: 5\n",
            "\u001b[34m\u001b[1mwandb\u001b[0m: \thidden_units: 256\n",
            "\u001b[34m\u001b[1mwandb\u001b[0m: \tlearning_rate: 0.002\n"
          ]
        },
        {
          "output_type": "display_data",
          "data": {
            "text/plain": [
              "<IPython.core.display.HTML object>"
            ],
            "text/html": [
              "Tracking run with wandb version 0.19.6"
            ]
          },
          "metadata": {}
        },
        {
          "output_type": "display_data",
          "data": {
            "text/plain": [
              "<IPython.core.display.HTML object>"
            ],
            "text/html": [
              "Run data is saved locally in <code>/content/wandb/run-20250223_080127-oz7vfbbc</code>"
            ]
          },
          "metadata": {}
        },
        {
          "output_type": "display_data",
          "data": {
            "text/plain": [
              "<IPython.core.display.HTML object>"
            ],
            "text/html": [
              "Syncing run <strong><a href='https://wandb.ai/g24ait008-ml-ops/MLOps2025_g24ait008/runs/oz7vfbbc' target=\"_blank\">fearless-sweep-9</a></strong> to <a href='https://wandb.ai/g24ait008-ml-ops/MLOps2025_g24ait008' target=\"_blank\">Weights & Biases</a> (<a href='https://wandb.me/developer-guide' target=\"_blank\">docs</a>)<br>Sweep page: <a href='https://wandb.ai/g24ait008-ml-ops/MLOps2025_g24ait008/sweeps/l5dm6euw' target=\"_blank\">https://wandb.ai/g24ait008-ml-ops/MLOps2025_g24ait008/sweeps/l5dm6euw</a>"
            ]
          },
          "metadata": {}
        },
        {
          "output_type": "display_data",
          "data": {
            "text/plain": [
              "<IPython.core.display.HTML object>"
            ],
            "text/html": [
              " View project at <a href='https://wandb.ai/g24ait008-ml-ops/MLOps2025_g24ait008' target=\"_blank\">https://wandb.ai/g24ait008-ml-ops/MLOps2025_g24ait008</a>"
            ]
          },
          "metadata": {}
        },
        {
          "output_type": "display_data",
          "data": {
            "text/plain": [
              "<IPython.core.display.HTML object>"
            ],
            "text/html": [
              " View sweep at <a href='https://wandb.ai/g24ait008-ml-ops/MLOps2025_g24ait008/sweeps/l5dm6euw' target=\"_blank\">https://wandb.ai/g24ait008-ml-ops/MLOps2025_g24ait008/sweeps/l5dm6euw</a>"
            ]
          },
          "metadata": {}
        },
        {
          "output_type": "display_data",
          "data": {
            "text/plain": [
              "<IPython.core.display.HTML object>"
            ],
            "text/html": [
              " View run at <a href='https://wandb.ai/g24ait008-ml-ops/MLOps2025_g24ait008/runs/oz7vfbbc' target=\"_blank\">https://wandb.ai/g24ait008-ml-ops/MLOps2025_g24ait008/runs/oz7vfbbc</a>"
            ]
          },
          "metadata": {}
        },
        {
          "output_type": "stream",
          "name": "stdout",
          "text": [
            "Epoch [1/5], Train Loss: 0.5071, Train Accuracy: 0.8160, Validation Loss: 0.4554, Validation Accuracy: 0.8267\n",
            "Epoch [2/5], Train Loss: 0.3854, Train Accuracy: 0.8587, Validation Loss: 0.3640, Validation Accuracy: 0.8678\n",
            "Epoch [3/5], Train Loss: 0.3457, Train Accuracy: 0.8719, Validation Loss: 0.3485, Validation Accuracy: 0.8666\n",
            "Epoch [4/5], Train Loss: 0.3180, Train Accuracy: 0.8827, Validation Loss: 0.3216, Validation Accuracy: 0.8801\n",
            "Epoch [5/5], Train Loss: 0.2954, Train Accuracy: 0.8908, Validation Loss: 0.3315, Validation Accuracy: 0.8832\n",
            "Time spent: 92.83 seconds\n"
          ]
        },
        {
          "output_type": "display_data",
          "data": {
            "text/plain": [
              "<IPython.core.display.HTML object>"
            ],
            "text/html": []
          },
          "metadata": {}
        },
        {
          "output_type": "display_data",
          "data": {
            "text/plain": [
              "<IPython.core.display.HTML object>"
            ],
            "text/html": [
              "<br>    <style><br>        .wandb-row {<br>            display: flex;<br>            flex-direction: row;<br>            flex-wrap: wrap;<br>            justify-content: flex-start;<br>            width: 100%;<br>        }<br>        .wandb-col {<br>            display: flex;<br>            flex-direction: column;<br>            flex-basis: 100%;<br>            flex: 1;<br>            padding: 10px;<br>        }<br>    </style><br><div class=\"wandb-row\"><div class=\"wandb-col\"><h3>Run history:</h3><br/><table class=\"wandb\"><tr><td>Time spent (seconds)</td><td>▁</td></tr><tr><td>Train Accuracy</td><td>▁▅▆▇█</td></tr><tr><td>Train Loss</td><td>█▄▃▂▁</td></tr><tr><td>Validation Accuracy</td><td>▁▆▆██</td></tr><tr><td>Validation Loss</td><td>█▃▂▁▂</td></tr></table><br/></div><div class=\"wandb-col\"><h3>Run summary:</h3><br/><table class=\"wandb\"><tr><td>Time spent (seconds)</td><td>92.83</td></tr><tr><td>Train Accuracy</td><td>0.89079</td></tr><tr><td>Train Loss</td><td>0.29539</td></tr><tr><td>Validation Accuracy</td><td>0.88325</td></tr><tr><td>Validation Loss</td><td>0.33154</td></tr></table><br/></div></div>"
            ]
          },
          "metadata": {}
        },
        {
          "output_type": "display_data",
          "data": {
            "text/plain": [
              "<IPython.core.display.HTML object>"
            ],
            "text/html": [
              " View run <strong style=\"color:#cdcd00\">fearless-sweep-9</strong> at: <a href='https://wandb.ai/g24ait008-ml-ops/MLOps2025_g24ait008/runs/oz7vfbbc' target=\"_blank\">https://wandb.ai/g24ait008-ml-ops/MLOps2025_g24ait008/runs/oz7vfbbc</a><br> View project at: <a href='https://wandb.ai/g24ait008-ml-ops/MLOps2025_g24ait008' target=\"_blank\">https://wandb.ai/g24ait008-ml-ops/MLOps2025_g24ait008</a><br>Synced 5 W&B file(s), 0 media file(s), 0 artifact file(s) and 0 other file(s)"
            ]
          },
          "metadata": {}
        },
        {
          "output_type": "display_data",
          "data": {
            "text/plain": [
              "<IPython.core.display.HTML object>"
            ],
            "text/html": [
              "Find logs at: <code>./wandb/run-20250223_080127-oz7vfbbc/logs</code>"
            ]
          },
          "metadata": {}
        },
        {
          "output_type": "stream",
          "name": "stderr",
          "text": [
            "\u001b[34m\u001b[1mwandb\u001b[0m: Agent Starting Run: 5w9z4jkc with config:\n",
            "\u001b[34m\u001b[1mwandb\u001b[0m: \tbatch_size: 128\n",
            "\u001b[34m\u001b[1mwandb\u001b[0m: \tepochs: 5\n",
            "\u001b[34m\u001b[1mwandb\u001b[0m: \thidden_units: 256\n",
            "\u001b[34m\u001b[1mwandb\u001b[0m: \tlearning_rate: 0.1\n"
          ]
        },
        {
          "output_type": "display_data",
          "data": {
            "text/plain": [
              "<IPython.core.display.HTML object>"
            ],
            "text/html": [
              "Tracking run with wandb version 0.19.6"
            ]
          },
          "metadata": {}
        },
        {
          "output_type": "display_data",
          "data": {
            "text/plain": [
              "<IPython.core.display.HTML object>"
            ],
            "text/html": [
              "Run data is saved locally in <code>/content/wandb/run-20250223_080308-5w9z4jkc</code>"
            ]
          },
          "metadata": {}
        },
        {
          "output_type": "display_data",
          "data": {
            "text/plain": [
              "<IPython.core.display.HTML object>"
            ],
            "text/html": [
              "Syncing run <strong><a href='https://wandb.ai/g24ait008-ml-ops/MLOps2025_g24ait008/runs/5w9z4jkc' target=\"_blank\">brisk-sweep-10</a></strong> to <a href='https://wandb.ai/g24ait008-ml-ops/MLOps2025_g24ait008' target=\"_blank\">Weights & Biases</a> (<a href='https://wandb.me/developer-guide' target=\"_blank\">docs</a>)<br>Sweep page: <a href='https://wandb.ai/g24ait008-ml-ops/MLOps2025_g24ait008/sweeps/l5dm6euw' target=\"_blank\">https://wandb.ai/g24ait008-ml-ops/MLOps2025_g24ait008/sweeps/l5dm6euw</a>"
            ]
          },
          "metadata": {}
        },
        {
          "output_type": "display_data",
          "data": {
            "text/plain": [
              "<IPython.core.display.HTML object>"
            ],
            "text/html": [
              " View project at <a href='https://wandb.ai/g24ait008-ml-ops/MLOps2025_g24ait008' target=\"_blank\">https://wandb.ai/g24ait008-ml-ops/MLOps2025_g24ait008</a>"
            ]
          },
          "metadata": {}
        },
        {
          "output_type": "display_data",
          "data": {
            "text/plain": [
              "<IPython.core.display.HTML object>"
            ],
            "text/html": [
              " View sweep at <a href='https://wandb.ai/g24ait008-ml-ops/MLOps2025_g24ait008/sweeps/l5dm6euw' target=\"_blank\">https://wandb.ai/g24ait008-ml-ops/MLOps2025_g24ait008/sweeps/l5dm6euw</a>"
            ]
          },
          "metadata": {}
        },
        {
          "output_type": "display_data",
          "data": {
            "text/plain": [
              "<IPython.core.display.HTML object>"
            ],
            "text/html": [
              " View run at <a href='https://wandb.ai/g24ait008-ml-ops/MLOps2025_g24ait008/runs/5w9z4jkc' target=\"_blank\">https://wandb.ai/g24ait008-ml-ops/MLOps2025_g24ait008/runs/5w9z4jkc</a>"
            ]
          },
          "metadata": {}
        },
        {
          "output_type": "stream",
          "name": "stdout",
          "text": [
            "Epoch [1/5], Train Loss: 0.5039, Train Accuracy: 0.8175, Validation Loss: 0.4254, Validation Accuracy: 0.8429\n",
            "Epoch [2/5], Train Loss: 0.3826, Train Accuracy: 0.8599, Validation Loss: 0.3524, Validation Accuracy: 0.8697\n",
            "Epoch [3/5], Train Loss: 0.3448, Train Accuracy: 0.8731, Validation Loss: 0.3495, Validation Accuracy: 0.8707\n",
            "Epoch [4/5], Train Loss: 0.3187, Train Accuracy: 0.8824, Validation Loss: 0.3201, Validation Accuracy: 0.8810\n",
            "Epoch [5/5], Train Loss: 0.2987, Train Accuracy: 0.8900, Validation Loss: 0.3170, Validation Accuracy: 0.8855\n",
            "Time spent: 93.42 seconds\n"
          ]
        },
        {
          "output_type": "display_data",
          "data": {
            "text/plain": [
              "<IPython.core.display.HTML object>"
            ],
            "text/html": []
          },
          "metadata": {}
        },
        {
          "output_type": "display_data",
          "data": {
            "text/plain": [
              "<IPython.core.display.HTML object>"
            ],
            "text/html": [
              "<br>    <style><br>        .wandb-row {<br>            display: flex;<br>            flex-direction: row;<br>            flex-wrap: wrap;<br>            justify-content: flex-start;<br>            width: 100%;<br>        }<br>        .wandb-col {<br>            display: flex;<br>            flex-direction: column;<br>            flex-basis: 100%;<br>            flex: 1;<br>            padding: 10px;<br>        }<br>    </style><br><div class=\"wandb-row\"><div class=\"wandb-col\"><h3>Run history:</h3><br/><table class=\"wandb\"><tr><td>Time spent (seconds)</td><td>▁</td></tr><tr><td>Train Accuracy</td><td>▁▅▆▇█</td></tr><tr><td>Train Loss</td><td>█▄▃▂▁</td></tr><tr><td>Validation Accuracy</td><td>▁▅▆▇█</td></tr><tr><td>Validation Loss</td><td>█▃▃▁▁</td></tr></table><br/></div><div class=\"wandb-col\"><h3>Run summary:</h3><br/><table class=\"wandb\"><tr><td>Time spent (seconds)</td><td>93.42</td></tr><tr><td>Train Accuracy</td><td>0.89002</td></tr><tr><td>Train Loss</td><td>0.29872</td></tr><tr><td>Validation Accuracy</td><td>0.8855</td></tr><tr><td>Validation Loss</td><td>0.31696</td></tr></table><br/></div></div>"
            ]
          },
          "metadata": {}
        },
        {
          "output_type": "display_data",
          "data": {
            "text/plain": [
              "<IPython.core.display.HTML object>"
            ],
            "text/html": [
              " View run <strong style=\"color:#cdcd00\">brisk-sweep-10</strong> at: <a href='https://wandb.ai/g24ait008-ml-ops/MLOps2025_g24ait008/runs/5w9z4jkc' target=\"_blank\">https://wandb.ai/g24ait008-ml-ops/MLOps2025_g24ait008/runs/5w9z4jkc</a><br> View project at: <a href='https://wandb.ai/g24ait008-ml-ops/MLOps2025_g24ait008' target=\"_blank\">https://wandb.ai/g24ait008-ml-ops/MLOps2025_g24ait008</a><br>Synced 5 W&B file(s), 0 media file(s), 0 artifact file(s) and 0 other file(s)"
            ]
          },
          "metadata": {}
        },
        {
          "output_type": "display_data",
          "data": {
            "text/plain": [
              "<IPython.core.display.HTML object>"
            ],
            "text/html": [
              "Find logs at: <code>./wandb/run-20250223_080308-5w9z4jkc/logs</code>"
            ]
          },
          "metadata": {}
        }
      ]
    },
    {
      "cell_type": "markdown",
      "source": [
        "# Q5. (Artifact Management and Model Saving)"
      ],
      "metadata": {
        "id": "b5el02fMEwkX"
      }
    },
    {
      "cell_type": "markdown",
      "source": [
        "Saving the model"
      ],
      "metadata": {
        "id": "j1DQzbCHExqr"
      }
    },
    {
      "cell_type": "code",
      "source": [
        "torch.save(model.state_dict(), \"MLOps2025.pth\")\n",
        "wandb.init()\n",
        "artifact = wandb.Artifact(\"MLOps2025\", type=\"model\")\n",
        "artifact.add_file(\"MLOps2025.pth\")\n",
        "wandb.log_artifact(artifact)\n",
        "\n",
        "wandb.finish()"
      ],
      "metadata": {
        "colab": {
          "base_uri": "https://localhost:8080/",
          "height": 225
        },
        "id": "PoA-0LGJE3Pt",
        "outputId": "66945cbc-5fe8-4149-e03f-57cb02b4174d"
      },
      "execution_count": 9,
      "outputs": [
        {
          "output_type": "display_data",
          "data": {
            "text/plain": [
              "<IPython.core.display.HTML object>"
            ],
            "text/html": [
              "Changes to your `wandb` environment variables will be ignored because your `wandb` session has already started. For more information on how to modify your settings with `wandb.init()` arguments, please refer to <a href='https://wandb.me/wandb-init' target=\"_blank\">the W&B docs</a>."
            ]
          },
          "metadata": {}
        },
        {
          "output_type": "display_data",
          "data": {
            "text/plain": [
              "<IPython.core.display.HTML object>"
            ],
            "text/html": [
              "Tracking run with wandb version 0.19.6"
            ]
          },
          "metadata": {}
        },
        {
          "output_type": "display_data",
          "data": {
            "text/plain": [
              "<IPython.core.display.HTML object>"
            ],
            "text/html": [
              "Run data is saved locally in <code>/content/wandb/run-20250223_080444-5w9z4jkc</code>"
            ]
          },
          "metadata": {}
        },
        {
          "output_type": "display_data",
          "data": {
            "text/plain": [
              "<IPython.core.display.HTML object>"
            ],
            "text/html": [
              "Syncing run <strong><a href='https://wandb.ai/g24ait008-ml-ops/MLOps2025_g24ait008/runs/5w9z4jkc' target=\"_blank\">brisk-sweep-10</a></strong> to <a href='https://wandb.ai/g24ait008-ml-ops/MLOps2025_g24ait008' target=\"_blank\">Weights & Biases</a> (<a href='https://wandb.me/developer-guide' target=\"_blank\">docs</a>)<br>Sweep page: <a href='https://wandb.ai/g24ait008-ml-ops/MLOps2025_g24ait008/sweeps/l5dm6euw' target=\"_blank\">https://wandb.ai/g24ait008-ml-ops/MLOps2025_g24ait008/sweeps/l5dm6euw</a>"
            ]
          },
          "metadata": {}
        },
        {
          "output_type": "display_data",
          "data": {
            "text/plain": [
              "<IPython.core.display.HTML object>"
            ],
            "text/html": [
              " View project at <a href='https://wandb.ai/g24ait008-ml-ops/MLOps2025_g24ait008' target=\"_blank\">https://wandb.ai/g24ait008-ml-ops/MLOps2025_g24ait008</a>"
            ]
          },
          "metadata": {}
        },
        {
          "output_type": "display_data",
          "data": {
            "text/plain": [
              "<IPython.core.display.HTML object>"
            ],
            "text/html": [
              " View sweep at <a href='https://wandb.ai/g24ait008-ml-ops/MLOps2025_g24ait008/sweeps/l5dm6euw' target=\"_blank\">https://wandb.ai/g24ait008-ml-ops/MLOps2025_g24ait008/sweeps/l5dm6euw</a>"
            ]
          },
          "metadata": {}
        },
        {
          "output_type": "display_data",
          "data": {
            "text/plain": [
              "<IPython.core.display.HTML object>"
            ],
            "text/html": [
              " View run at <a href='https://wandb.ai/g24ait008-ml-ops/MLOps2025_g24ait008/runs/5w9z4jkc' target=\"_blank\">https://wandb.ai/g24ait008-ml-ops/MLOps2025_g24ait008/runs/5w9z4jkc</a>"
            ]
          },
          "metadata": {}
        },
        {
          "output_type": "display_data",
          "data": {
            "text/plain": [
              "<IPython.core.display.HTML object>"
            ],
            "text/html": []
          },
          "metadata": {}
        },
        {
          "output_type": "display_data",
          "data": {
            "text/plain": [
              "<IPython.core.display.HTML object>"
            ],
            "text/html": [
              " View run <strong style=\"color:#cdcd00\">brisk-sweep-10</strong> at: <a href='https://wandb.ai/g24ait008-ml-ops/MLOps2025_g24ait008/runs/5w9z4jkc' target=\"_blank\">https://wandb.ai/g24ait008-ml-ops/MLOps2025_g24ait008/runs/5w9z4jkc</a><br> View project at: <a href='https://wandb.ai/g24ait008-ml-ops/MLOps2025_g24ait008' target=\"_blank\">https://wandb.ai/g24ait008-ml-ops/MLOps2025_g24ait008</a><br>Synced 5 W&B file(s), 0 media file(s), 2 artifact file(s) and 0 other file(s)"
            ]
          },
          "metadata": {}
        },
        {
          "output_type": "display_data",
          "data": {
            "text/plain": [
              "<IPython.core.display.HTML object>"
            ],
            "text/html": [
              "Find logs at: <code>./wandb/run-20250223_080444-5w9z4jkc/logs</code>"
            ]
          },
          "metadata": {}
        }
      ]
    }
  ]
}